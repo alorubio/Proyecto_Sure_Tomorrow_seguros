{
 "cells": [
  {
   "cell_type": "markdown",
   "metadata": {},
   "source": [
    "# Descripción"
   ]
  },
  {
   "cell_type": "markdown",
   "metadata": {},
   "source": [
    "La compañía de seguros Sure Tomorrow quiere resolver varias tareas con la ayuda de machine learning y te pide que evalúes esa posibilidad.\n",
    "- Tarea 1: encontrar clientes que sean similares a un cliente determinado. Esto ayudará a los agentes de la compañía con el marketing.\n",
    "- Tarea 2: predecir la probabilidad de que un nuevo cliente reciba una prestación del seguro. ¿Puede un modelo de predictivo funcionar mejor que un modelo dummy?\n",
    "- Tarea 3: predecir el número de prestaciones de seguro que un nuevo cliente pueda recibir utilizando un modelo de regresión lineal.\n",
    "- Tarea 4: proteger los datos personales de los clientes sin afectar al modelo del ejercicio anterior. Es necesario desarrollar un algoritmo de transformación de datos que dificulte la recuperación de la información personal si los datos caen en manos equivocadas. Esto se denomina enmascaramiento u ofuscación de datos. Pero los datos deben protegerse de tal manera que no se vea afectada la calidad de los modelos de machine learning. No es necesario elegir el mejor modelo, basta con demostrar que el algoritmo funciona correctamente.\n"
   ]
  },
  {
   "cell_type": "markdown",
   "metadata": {},
   "source": [
    "# Preprocesamiento y exploración de datos\n",
    "\n",
    "## Inicialización"
   ]
  },
  {
   "cell_type": "code",
   "execution_count": 1,
   "metadata": {},
   "outputs": [],
   "source": [
    "#pip install scikit-learn --upgrade"
   ]
  },
  {
   "cell_type": "code",
   "execution_count": 2,
   "metadata": {},
   "outputs": [],
   "source": [
    "import numpy as np\n",
    "import pandas as pd\n",
    "\n",
    "import seaborn as sns\n",
    "import math\n",
    "\n",
    "import sklearn.linear_model\n",
    "import sklearn.metrics\n",
    "import sklearn.neighbors\n",
    "import sklearn.preprocessing\n",
    "\n",
    "from sklearn.model_selection import train_test_split\n",
    "from sklearn.neighbors import NearestNeighbors, KNeighborsClassifier\n",
    "from sklearn.metrics import f1_score, mean_squared_error, r2_score\n",
    "from sklearn.linear_model import LinearRegression\n",
    "\n",
    "from IPython.display import display"
   ]
  },
  {
   "cell_type": "markdown",
   "metadata": {},
   "source": [
    "## Carga de datos"
   ]
  },
  {
   "cell_type": "markdown",
   "metadata": {},
   "source": [
    "Carga los datos y haz una revisión básica para comprobar que no hay problemas obvios."
   ]
  },
  {
   "cell_type": "code",
   "execution_count": 3,
   "metadata": {},
   "outputs": [],
   "source": [
    "df = pd.read_csv('/datasets/insurance_us.csv')"
   ]
  },
  {
   "cell_type": "markdown",
   "metadata": {},
   "source": [
    "Renombramos las columnas para que el código se vea más coherente con su estilo."
   ]
  },
  {
   "cell_type": "code",
   "execution_count": 4,
   "metadata": {},
   "outputs": [],
   "source": [
    "df = df.rename(columns={'Gender': 'gender', 'Age': 'age', 'Salary': 'income', 'Family members': 'family_members', 'Insurance benefits': 'insurance_benefits'})"
   ]
  },
  {
   "cell_type": "code",
   "execution_count": 5,
   "metadata": {},
   "outputs": [
    {
     "data": {
      "text/html": [
       "<div>\n",
       "<style scoped>\n",
       "    .dataframe tbody tr th:only-of-type {\n",
       "        vertical-align: middle;\n",
       "    }\n",
       "\n",
       "    .dataframe tbody tr th {\n",
       "        vertical-align: top;\n",
       "    }\n",
       "\n",
       "    .dataframe thead th {\n",
       "        text-align: right;\n",
       "    }\n",
       "</style>\n",
       "<table border=\"1\" class=\"dataframe\">\n",
       "  <thead>\n",
       "    <tr style=\"text-align: right;\">\n",
       "      <th></th>\n",
       "      <th>gender</th>\n",
       "      <th>age</th>\n",
       "      <th>income</th>\n",
       "      <th>family_members</th>\n",
       "      <th>insurance_benefits</th>\n",
       "    </tr>\n",
       "  </thead>\n",
       "  <tbody>\n",
       "    <tr>\n",
       "      <th>3687</th>\n",
       "      <td>1</td>\n",
       "      <td>33.0</td>\n",
       "      <td>49600.0</td>\n",
       "      <td>0</td>\n",
       "      <td>0</td>\n",
       "    </tr>\n",
       "    <tr>\n",
       "      <th>3977</th>\n",
       "      <td>1</td>\n",
       "      <td>32.0</td>\n",
       "      <td>41600.0</td>\n",
       "      <td>1</td>\n",
       "      <td>0</td>\n",
       "    </tr>\n",
       "    <tr>\n",
       "      <th>3242</th>\n",
       "      <td>0</td>\n",
       "      <td>30.0</td>\n",
       "      <td>36600.0</td>\n",
       "      <td>1</td>\n",
       "      <td>0</td>\n",
       "    </tr>\n",
       "    <tr>\n",
       "      <th>2935</th>\n",
       "      <td>1</td>\n",
       "      <td>25.0</td>\n",
       "      <td>33000.0</td>\n",
       "      <td>0</td>\n",
       "      <td>0</td>\n",
       "    </tr>\n",
       "    <tr>\n",
       "      <th>2088</th>\n",
       "      <td>1</td>\n",
       "      <td>21.0</td>\n",
       "      <td>47900.0</td>\n",
       "      <td>2</td>\n",
       "      <td>0</td>\n",
       "    </tr>\n",
       "    <tr>\n",
       "      <th>1368</th>\n",
       "      <td>0</td>\n",
       "      <td>27.0</td>\n",
       "      <td>22900.0</td>\n",
       "      <td>3</td>\n",
       "      <td>0</td>\n",
       "    </tr>\n",
       "    <tr>\n",
       "      <th>1472</th>\n",
       "      <td>0</td>\n",
       "      <td>28.0</td>\n",
       "      <td>30500.0</td>\n",
       "      <td>1</td>\n",
       "      <td>0</td>\n",
       "    </tr>\n",
       "    <tr>\n",
       "      <th>4061</th>\n",
       "      <td>1</td>\n",
       "      <td>36.0</td>\n",
       "      <td>45900.0</td>\n",
       "      <td>1</td>\n",
       "      <td>0</td>\n",
       "    </tr>\n",
       "    <tr>\n",
       "      <th>96</th>\n",
       "      <td>0</td>\n",
       "      <td>23.0</td>\n",
       "      <td>43700.0</td>\n",
       "      <td>0</td>\n",
       "      <td>0</td>\n",
       "    </tr>\n",
       "    <tr>\n",
       "      <th>1114</th>\n",
       "      <td>0</td>\n",
       "      <td>46.0</td>\n",
       "      <td>32800.0</td>\n",
       "      <td>0</td>\n",
       "      <td>1</td>\n",
       "    </tr>\n",
       "    <tr>\n",
       "      <th>4220</th>\n",
       "      <td>1</td>\n",
       "      <td>36.0</td>\n",
       "      <td>28800.0</td>\n",
       "      <td>1</td>\n",
       "      <td>0</td>\n",
       "    </tr>\n",
       "    <tr>\n",
       "      <th>4687</th>\n",
       "      <td>0</td>\n",
       "      <td>38.0</td>\n",
       "      <td>36400.0</td>\n",
       "      <td>1</td>\n",
       "      <td>0</td>\n",
       "    </tr>\n",
       "    <tr>\n",
       "      <th>4286</th>\n",
       "      <td>0</td>\n",
       "      <td>27.0</td>\n",
       "      <td>27500.0</td>\n",
       "      <td>1</td>\n",
       "      <td>0</td>\n",
       "    </tr>\n",
       "    <tr>\n",
       "      <th>3847</th>\n",
       "      <td>0</td>\n",
       "      <td>37.0</td>\n",
       "      <td>37300.0</td>\n",
       "      <td>2</td>\n",
       "      <td>0</td>\n",
       "    </tr>\n",
       "    <tr>\n",
       "      <th>241</th>\n",
       "      <td>1</td>\n",
       "      <td>27.0</td>\n",
       "      <td>32400.0</td>\n",
       "      <td>1</td>\n",
       "      <td>0</td>\n",
       "    </tr>\n",
       "  </tbody>\n",
       "</table>\n",
       "</div>"
      ],
      "text/plain": [
       "      gender   age   income  family_members  insurance_benefits\n",
       "3687       1  33.0  49600.0               0                   0\n",
       "3977       1  32.0  41600.0               1                   0\n",
       "3242       0  30.0  36600.0               1                   0\n",
       "2935       1  25.0  33000.0               0                   0\n",
       "2088       1  21.0  47900.0               2                   0\n",
       "1368       0  27.0  22900.0               3                   0\n",
       "1472       0  28.0  30500.0               1                   0\n",
       "4061       1  36.0  45900.0               1                   0\n",
       "96         0  23.0  43700.0               0                   0\n",
       "1114       0  46.0  32800.0               0                   1\n",
       "4220       1  36.0  28800.0               1                   0\n",
       "4687       0  38.0  36400.0               1                   0\n",
       "4286       0  27.0  27500.0               1                   0\n",
       "3847       0  37.0  37300.0               2                   0\n",
       "241        1  27.0  32400.0               1                   0"
      ]
     },
     "execution_count": 5,
     "metadata": {},
     "output_type": "execute_result"
    }
   ],
   "source": [
    "df.sample(15)"
   ]
  },
  {
   "cell_type": "code",
   "execution_count": 6,
   "metadata": {},
   "outputs": [
    {
     "name": "stdout",
     "output_type": "stream",
     "text": [
      "<class 'pandas.core.frame.DataFrame'>\n",
      "RangeIndex: 5000 entries, 0 to 4999\n",
      "Data columns (total 5 columns):\n",
      " #   Column              Non-Null Count  Dtype  \n",
      "---  ------              --------------  -----  \n",
      " 0   gender              5000 non-null   int64  \n",
      " 1   age                 5000 non-null   float64\n",
      " 2   income              5000 non-null   float64\n",
      " 3   family_members      5000 non-null   int64  \n",
      " 4   insurance_benefits  5000 non-null   int64  \n",
      "dtypes: float64(2), int64(3)\n",
      "memory usage: 195.4 KB\n"
     ]
    }
   ],
   "source": [
    "df.info()"
   ]
  },
  {
   "cell_type": "code",
   "execution_count": 7,
   "metadata": {},
   "outputs": [],
   "source": [
    "# puede que queramos cambiar el tipo de edad (de float a int) aunque esto no es crucial\n",
    "\n",
    "df['age'] = df['age'].astype(int)"
   ]
  },
  {
   "cell_type": "code",
   "execution_count": 8,
   "metadata": {},
   "outputs": [
    {
     "name": "stdout",
     "output_type": "stream",
     "text": [
      "<class 'pandas.core.frame.DataFrame'>\n",
      "RangeIndex: 5000 entries, 0 to 4999\n",
      "Data columns (total 5 columns):\n",
      " #   Column              Non-Null Count  Dtype  \n",
      "---  ------              --------------  -----  \n",
      " 0   gender              5000 non-null   int64  \n",
      " 1   age                 5000 non-null   int64  \n",
      " 2   income              5000 non-null   float64\n",
      " 3   family_members      5000 non-null   int64  \n",
      " 4   insurance_benefits  5000 non-null   int64  \n",
      "dtypes: float64(1), int64(4)\n",
      "memory usage: 195.4 KB\n"
     ]
    }
   ],
   "source": [
    "# comprueba que la conversión se haya realizado con éxito\n",
    "\n",
    "df.info()"
   ]
  },
  {
   "cell_type": "code",
   "execution_count": 9,
   "metadata": {},
   "outputs": [
    {
     "data": {
      "text/html": [
       "<div>\n",
       "<style scoped>\n",
       "    .dataframe tbody tr th:only-of-type {\n",
       "        vertical-align: middle;\n",
       "    }\n",
       "\n",
       "    .dataframe tbody tr th {\n",
       "        vertical-align: top;\n",
       "    }\n",
       "\n",
       "    .dataframe thead th {\n",
       "        text-align: right;\n",
       "    }\n",
       "</style>\n",
       "<table border=\"1\" class=\"dataframe\">\n",
       "  <thead>\n",
       "    <tr style=\"text-align: right;\">\n",
       "      <th></th>\n",
       "      <th>gender</th>\n",
       "      <th>age</th>\n",
       "      <th>income</th>\n",
       "      <th>family_members</th>\n",
       "      <th>insurance_benefits</th>\n",
       "    </tr>\n",
       "  </thead>\n",
       "  <tbody>\n",
       "    <tr>\n",
       "      <th>count</th>\n",
       "      <td>5000.000000</td>\n",
       "      <td>5000.000000</td>\n",
       "      <td>5000.000000</td>\n",
       "      <td>5000.000000</td>\n",
       "      <td>5000.000000</td>\n",
       "    </tr>\n",
       "    <tr>\n",
       "      <th>mean</th>\n",
       "      <td>0.499000</td>\n",
       "      <td>30.952800</td>\n",
       "      <td>39916.360000</td>\n",
       "      <td>1.194200</td>\n",
       "      <td>0.148000</td>\n",
       "    </tr>\n",
       "    <tr>\n",
       "      <th>std</th>\n",
       "      <td>0.500049</td>\n",
       "      <td>8.440807</td>\n",
       "      <td>9900.083569</td>\n",
       "      <td>1.091387</td>\n",
       "      <td>0.463183</td>\n",
       "    </tr>\n",
       "    <tr>\n",
       "      <th>min</th>\n",
       "      <td>0.000000</td>\n",
       "      <td>18.000000</td>\n",
       "      <td>5300.000000</td>\n",
       "      <td>0.000000</td>\n",
       "      <td>0.000000</td>\n",
       "    </tr>\n",
       "    <tr>\n",
       "      <th>25%</th>\n",
       "      <td>0.000000</td>\n",
       "      <td>24.000000</td>\n",
       "      <td>33300.000000</td>\n",
       "      <td>0.000000</td>\n",
       "      <td>0.000000</td>\n",
       "    </tr>\n",
       "    <tr>\n",
       "      <th>50%</th>\n",
       "      <td>0.000000</td>\n",
       "      <td>30.000000</td>\n",
       "      <td>40200.000000</td>\n",
       "      <td>1.000000</td>\n",
       "      <td>0.000000</td>\n",
       "    </tr>\n",
       "    <tr>\n",
       "      <th>75%</th>\n",
       "      <td>1.000000</td>\n",
       "      <td>37.000000</td>\n",
       "      <td>46600.000000</td>\n",
       "      <td>2.000000</td>\n",
       "      <td>0.000000</td>\n",
       "    </tr>\n",
       "    <tr>\n",
       "      <th>max</th>\n",
       "      <td>1.000000</td>\n",
       "      <td>65.000000</td>\n",
       "      <td>79000.000000</td>\n",
       "      <td>6.000000</td>\n",
       "      <td>5.000000</td>\n",
       "    </tr>\n",
       "  </tbody>\n",
       "</table>\n",
       "</div>"
      ],
      "text/plain": [
       "            gender          age        income  family_members  \\\n",
       "count  5000.000000  5000.000000   5000.000000     5000.000000   \n",
       "mean      0.499000    30.952800  39916.360000        1.194200   \n",
       "std       0.500049     8.440807   9900.083569        1.091387   \n",
       "min       0.000000    18.000000   5300.000000        0.000000   \n",
       "25%       0.000000    24.000000  33300.000000        0.000000   \n",
       "50%       0.000000    30.000000  40200.000000        1.000000   \n",
       "75%       1.000000    37.000000  46600.000000        2.000000   \n",
       "max       1.000000    65.000000  79000.000000        6.000000   \n",
       "\n",
       "       insurance_benefits  \n",
       "count         5000.000000  \n",
       "mean             0.148000  \n",
       "std              0.463183  \n",
       "min              0.000000  \n",
       "25%              0.000000  \n",
       "50%              0.000000  \n",
       "75%              0.000000  \n",
       "max              5.000000  "
      ]
     },
     "execution_count": 9,
     "metadata": {},
     "output_type": "execute_result"
    }
   ],
   "source": [
    "# ahora echa un vistazo a las estadísticas descriptivas de los datos.# ¿Se ve todo bien?\n",
    "\n",
    "df.describe()"
   ]
  },
  {
   "cell_type": "code",
   "execution_count": 10,
   "metadata": {},
   "outputs": [
    {
     "data": {
      "text/plain": [
       "153"
      ]
     },
     "execution_count": 10,
     "metadata": {},
     "output_type": "execute_result"
    }
   ],
   "source": [
    "df.duplicated().sum()"
   ]
  },
  {
   "cell_type": "code",
   "execution_count": 11,
   "metadata": {},
   "outputs": [
    {
     "data": {
      "text/plain": [
       "gender                0\n",
       "age                   0\n",
       "income                0\n",
       "family_members        0\n",
       "insurance_benefits    0\n",
       "dtype: int64"
      ]
     },
     "execution_count": 11,
     "metadata": {},
     "output_type": "execute_result"
    }
   ],
   "source": [
    "df.isnull().sum()"
   ]
  },
  {
   "cell_type": "markdown",
   "metadata": {},
   "source": [
    "Analizando la información del df con el describe, podemos apreciar que no hay faltantes en las columnas, los valores son adecuados y no presenta valores atípicos.\n",
    "\n",
    "Por otro lado el df no contiene valores nulos, sin embargo si cuenta con valores duplicados, esto podría deberse a que puede suceder que haya casos iguales, sin necesidad de ser la misma persona, por lo tanto se decide no tratar los casos duplicados para no afectar la data."
   ]
  },
  {
   "cell_type": "markdown",
   "metadata": {},
   "source": [
    "## Análisis exploratorio de datos"
   ]
  },
  {
   "cell_type": "markdown",
   "metadata": {},
   "source": [
    "Vamos a comprobar rápidamente si existen determinados grupos de clientes observando el gráfico de pares."
   ]
  },
  {
   "cell_type": "code",
   "execution_count": 12,
   "metadata": {},
   "outputs": [
    {
     "data": {
      "image/png": "[encoded data removed]",
      "text/plain": [
       "<Figure size 1200x1200 with 30 Axes>"
      ]
     },
     "metadata": {},
     "output_type": "display_data"
    }
   ],
   "source": [
    "g = sns.pairplot(df, kind='hist')\n",
    "g.fig.set_size_inches(12, 12)"
   ]
  },
  {
   "cell_type": "markdown",
   "metadata": {},
   "source": [
    "De acuerdo, es un poco complicado detectar grupos obvios (clústeres) ya que es difícil combinar diversas variables simultáneamente (para analizar distribuciones multivariadas). Ahí es donde LA y ML pueden ser bastante útiles."
   ]
  },
  {
   "cell_type": "markdown",
   "metadata": {},
   "source": [
    "# Tarea 1. Clientes similares"
   ]
  },
  {
   "cell_type": "markdown",
   "metadata": {},
   "source": [
    "En el lenguaje de ML, es necesario desarrollar un procedimiento que devuelva los k vecinos más cercanos (objetos) para un objeto dado basándose en la distancia entre los objetos.\n",
    "Es posible que quieras revisar las siguientes lecciones (capítulo -> lección)- Distancia entre vectores -> Distancia euclidiana\n",
    "- Distancia entre vectores -> Distancia Manhattan\n",
    "\n",
    "Para resolver la tarea, podemos probar diferentes métricas de distancia."
   ]
  },
  {
   "cell_type": "markdown",
   "metadata": {},
   "source": [
    "Escribe una función que devuelva los k vecinos más cercanos para un $n^{th}$ objeto basándose en una métrica de distancia especificada. A la hora de realizar esta tarea no debe tenerse en cuenta el número de prestaciones de seguro recibidas.\n",
    "Puedes utilizar una implementación ya existente del algoritmo kNN de scikit-learn (consulta [el enlace](https://scikit-learn.org/stable/modules/generated/sklearn.neighbors.NearestNeighbors.html#sklearn.neighbors.NearestNeighbors)) o tu propia implementación.\n",
    "Pruébalo para cuatro combinaciones de dos casos- Escalado\n",
    "  - los datos no están escalados\n",
    "  - los datos se escalan con el escalador [MaxAbsScaler](https://scikit-learn.org/stable/modules/generated/sklearn.preprocessing.MaxAbsScaler.html)\n",
    "- Métricas de distancia\n",
    "  - Euclidiana\n",
    "  - Manhattan\n",
    "\n",
    "Responde a estas preguntas:- ¿El hecho de que los datos no estén escalados afecta al algoritmo kNN? Si es así, ¿cómo se manifiesta?- ¿Qué tan similares son los resultados al utilizar la métrica de distancia Manhattan (independientemente del escalado)?"
   ]
  },
  {
   "cell_type": "code",
   "execution_count": 13,
   "metadata": {},
   "outputs": [],
   "source": [
    "feature_names = ['gender', 'age', 'income', 'family_members']"
   ]
  },
  {
   "cell_type": "code",
   "execution_count": 14,
   "metadata": {},
   "outputs": [],
   "source": [
    "def get_knn(df, n, k, metric):\n",
    "    \n",
    "    \"\"\"\n",
    "    Devuelve los k vecinos más cercanos\n",
    "\n",
    "    :param df: DataFrame de pandas utilizado para encontrar objetos similares dentro del mismo lugar    \n",
    "    :param n: número de objetos para los que se buscan los vecinos más cercanos    \n",
    "    :param k: número de vecinos más cercanos a devolver\n",
    "    :param métrica: nombre de la métrica de distancia    \"\"\"\n",
    "\n",
    "    nbrs = NearestNeighbors(n_neighbors = n, metric = metric)\n",
    "    nbrs.fit(df[feature_names])\n",
    "    nbrs_distances, nbrs_indices = nbrs.kneighbors([df.iloc[n][feature_names]], k, return_distance=True)\n",
    "    \n",
    "    df_res = pd.concat([\n",
    "        df.iloc[nbrs_indices[0]], \n",
    "        pd.DataFrame(nbrs_distances.T, index=nbrs_indices[0], columns=['distance'])\n",
    "        ], axis=1)\n",
    "    \n",
    "    return df_res"
   ]
  },
  {
   "cell_type": "markdown",
   "metadata": {},
   "source": [
    "Escalar datos."
   ]
  },
  {
   "cell_type": "code",
   "execution_count": 15,
   "metadata": {},
   "outputs": [],
   "source": [
    "feature_names = ['gender', 'age', 'income', 'family_members']\n",
    "\n",
    "transformer_mas = sklearn.preprocessing.MaxAbsScaler().fit(df[feature_names].to_numpy())\n",
    "\n",
    "df_scaled = df.copy()\n",
    "df_scaled.loc[:, feature_names] = transformer_mas.transform(df[feature_names].to_numpy())"
   ]
  },
  {
   "cell_type": "code",
   "execution_count": 16,
   "metadata": {},
   "outputs": [
    {
     "data": {
      "text/html": [
       "<div>\n",
       "<style scoped>\n",
       "    .dataframe tbody tr th:only-of-type {\n",
       "        vertical-align: middle;\n",
       "    }\n",
       "\n",
       "    .dataframe tbody tr th {\n",
       "        vertical-align: top;\n",
       "    }\n",
       "\n",
       "    .dataframe thead th {\n",
       "        text-align: right;\n",
       "    }\n",
       "</style>\n",
       "<table border=\"1\" class=\"dataframe\">\n",
       "  <thead>\n",
       "    <tr style=\"text-align: right;\">\n",
       "      <th></th>\n",
       "      <th>gender</th>\n",
       "      <th>age</th>\n",
       "      <th>income</th>\n",
       "      <th>family_members</th>\n",
       "      <th>insurance_benefits</th>\n",
       "    </tr>\n",
       "  </thead>\n",
       "  <tbody>\n",
       "    <tr>\n",
       "      <th>4600</th>\n",
       "      <td>0.0</td>\n",
       "      <td>0.553846</td>\n",
       "      <td>0.605063</td>\n",
       "      <td>0.333333</td>\n",
       "      <td>0</td>\n",
       "    </tr>\n",
       "    <tr>\n",
       "      <th>3560</th>\n",
       "      <td>0.0</td>\n",
       "      <td>0.369231</td>\n",
       "      <td>0.517722</td>\n",
       "      <td>0.166667</td>\n",
       "      <td>0</td>\n",
       "    </tr>\n",
       "    <tr>\n",
       "      <th>4783</th>\n",
       "      <td>0.0</td>\n",
       "      <td>0.523077</td>\n",
       "      <td>0.393671</td>\n",
       "      <td>0.333333</td>\n",
       "      <td>0</td>\n",
       "    </tr>\n",
       "    <tr>\n",
       "      <th>3263</th>\n",
       "      <td>0.0</td>\n",
       "      <td>0.369231</td>\n",
       "      <td>0.355696</td>\n",
       "      <td>0.500000</td>\n",
       "      <td>0</td>\n",
       "    </tr>\n",
       "    <tr>\n",
       "      <th>1603</th>\n",
       "      <td>0.0</td>\n",
       "      <td>0.523077</td>\n",
       "      <td>0.259494</td>\n",
       "      <td>0.000000</td>\n",
       "      <td>0</td>\n",
       "    </tr>\n",
       "  </tbody>\n",
       "</table>\n",
       "</div>"
      ],
      "text/plain": [
       "      gender       age    income  family_members  insurance_benefits\n",
       "4600     0.0  0.553846  0.605063        0.333333                   0\n",
       "3560     0.0  0.369231  0.517722        0.166667                   0\n",
       "4783     0.0  0.523077  0.393671        0.333333                   0\n",
       "3263     0.0  0.369231  0.355696        0.500000                   0\n",
       "1603     0.0  0.523077  0.259494        0.000000                   0"
      ]
     },
     "execution_count": 16,
     "metadata": {},
     "output_type": "execute_result"
    }
   ],
   "source": [
    "df_scaled.sample(5)"
   ]
  },
  {
   "cell_type": "markdown",
   "metadata": {},
   "source": [
    "Ahora, vamos a obtener registros similares para uno determinado, para cada combinación"
   ]
  },
  {
   "cell_type": "code",
   "execution_count": 17,
   "metadata": {},
   "outputs": [
    {
     "data": {
      "text/html": [
       "<div>\n",
       "<style scoped>\n",
       "    .dataframe tbody tr th:only-of-type {\n",
       "        vertical-align: middle;\n",
       "    }\n",
       "\n",
       "    .dataframe tbody tr th {\n",
       "        vertical-align: top;\n",
       "    }\n",
       "\n",
       "    .dataframe thead th {\n",
       "        text-align: right;\n",
       "    }\n",
       "</style>\n",
       "<table border=\"1\" class=\"dataframe\">\n",
       "  <thead>\n",
       "    <tr style=\"text-align: right;\">\n",
       "      <th></th>\n",
       "      <th>gender</th>\n",
       "      <th>age</th>\n",
       "      <th>income</th>\n",
       "      <th>family_members</th>\n",
       "      <th>insurance_benefits</th>\n",
       "      <th>distance</th>\n",
       "    </tr>\n",
       "  </thead>\n",
       "  <tbody>\n",
       "    <tr>\n",
       "      <th>10</th>\n",
       "      <td>1</td>\n",
       "      <td>25</td>\n",
       "      <td>36600.0</td>\n",
       "      <td>1</td>\n",
       "      <td>0</td>\n",
       "      <td>0.000000</td>\n",
       "    </tr>\n",
       "    <tr>\n",
       "      <th>4039</th>\n",
       "      <td>1</td>\n",
       "      <td>25</td>\n",
       "      <td>36600.0</td>\n",
       "      <td>2</td>\n",
       "      <td>0</td>\n",
       "      <td>1.000000</td>\n",
       "    </tr>\n",
       "    <tr>\n",
       "      <th>2037</th>\n",
       "      <td>1</td>\n",
       "      <td>26</td>\n",
       "      <td>36600.0</td>\n",
       "      <td>0</td>\n",
       "      <td>0</td>\n",
       "      <td>1.414214</td>\n",
       "    </tr>\n",
       "    <tr>\n",
       "      <th>3247</th>\n",
       "      <td>1</td>\n",
       "      <td>26</td>\n",
       "      <td>36600.0</td>\n",
       "      <td>2</td>\n",
       "      <td>0</td>\n",
       "      <td>1.414214</td>\n",
       "    </tr>\n",
       "    <tr>\n",
       "      <th>1508</th>\n",
       "      <td>0</td>\n",
       "      <td>26</td>\n",
       "      <td>36600.0</td>\n",
       "      <td>0</td>\n",
       "      <td>0</td>\n",
       "      <td>1.732051</td>\n",
       "    </tr>\n",
       "    <tr>\n",
       "      <th>1949</th>\n",
       "      <td>0</td>\n",
       "      <td>24</td>\n",
       "      <td>36600.0</td>\n",
       "      <td>0</td>\n",
       "      <td>0</td>\n",
       "      <td>1.732051</td>\n",
       "    </tr>\n",
       "  </tbody>\n",
       "</table>\n",
       "</div>"
      ],
      "text/plain": [
       "      gender  age   income  family_members  insurance_benefits  distance\n",
       "10         1   25  36600.0               1                   0  0.000000\n",
       "4039       1   25  36600.0               2                   0  1.000000\n",
       "2037       1   26  36600.0               0                   0  1.414214\n",
       "3247       1   26  36600.0               2                   0  1.414214\n",
       "1508       0   26  36600.0               0                   0  1.732051\n",
       "1949       0   24  36600.0               0                   0  1.732051"
      ]
     },
     "execution_count": 17,
     "metadata": {},
     "output_type": "execute_result"
    }
   ],
   "source": [
    "no_escale_euclidean = get_knn(df, n=10, k=6, metric='minkowski')\n",
    "no_escale_euclidean.head(10)"
   ]
  },
  {
   "cell_type": "code",
   "execution_count": 18,
   "metadata": {},
   "outputs": [
    {
     "data": {
      "text/html": [
       "<div>\n",
       "<style scoped>\n",
       "    .dataframe tbody tr th:only-of-type {\n",
       "        vertical-align: middle;\n",
       "    }\n",
       "\n",
       "    .dataframe tbody tr th {\n",
       "        vertical-align: top;\n",
       "    }\n",
       "\n",
       "    .dataframe thead th {\n",
       "        text-align: right;\n",
       "    }\n",
       "</style>\n",
       "<table border=\"1\" class=\"dataframe\">\n",
       "  <thead>\n",
       "    <tr style=\"text-align: right;\">\n",
       "      <th></th>\n",
       "      <th>gender</th>\n",
       "      <th>age</th>\n",
       "      <th>income</th>\n",
       "      <th>family_members</th>\n",
       "      <th>insurance_benefits</th>\n",
       "      <th>distance</th>\n",
       "    </tr>\n",
       "  </thead>\n",
       "  <tbody>\n",
       "    <tr>\n",
       "      <th>10</th>\n",
       "      <td>1.0</td>\n",
       "      <td>0.384615</td>\n",
       "      <td>0.463291</td>\n",
       "      <td>0.166667</td>\n",
       "      <td>0</td>\n",
       "      <td>0.000000</td>\n",
       "    </tr>\n",
       "    <tr>\n",
       "      <th>4377</th>\n",
       "      <td>1.0</td>\n",
       "      <td>0.384615</td>\n",
       "      <td>0.473418</td>\n",
       "      <td>0.166667</td>\n",
       "      <td>0</td>\n",
       "      <td>0.010127</td>\n",
       "    </tr>\n",
       "    <tr>\n",
       "      <th>1389</th>\n",
       "      <td>1.0</td>\n",
       "      <td>0.369231</td>\n",
       "      <td>0.464557</td>\n",
       "      <td>0.166667</td>\n",
       "      <td>0</td>\n",
       "      <td>0.015437</td>\n",
       "    </tr>\n",
       "    <tr>\n",
       "      <th>760</th>\n",
       "      <td>1.0</td>\n",
       "      <td>0.369231</td>\n",
       "      <td>0.462025</td>\n",
       "      <td>0.166667</td>\n",
       "      <td>0</td>\n",
       "      <td>0.015437</td>\n",
       "    </tr>\n",
       "    <tr>\n",
       "      <th>2254</th>\n",
       "      <td>1.0</td>\n",
       "      <td>0.400000</td>\n",
       "      <td>0.455696</td>\n",
       "      <td>0.166667</td>\n",
       "      <td>0</td>\n",
       "      <td>0.017157</td>\n",
       "    </tr>\n",
       "    <tr>\n",
       "      <th>3261</th>\n",
       "      <td>1.0</td>\n",
       "      <td>0.400000</td>\n",
       "      <td>0.473418</td>\n",
       "      <td>0.166667</td>\n",
       "      <td>0</td>\n",
       "      <td>0.018418</td>\n",
       "    </tr>\n",
       "  </tbody>\n",
       "</table>\n",
       "</div>"
      ],
      "text/plain": [
       "      gender       age    income  family_members  insurance_benefits  distance\n",
       "10       1.0  0.384615  0.463291        0.166667                   0  0.000000\n",
       "4377     1.0  0.384615  0.473418        0.166667                   0  0.010127\n",
       "1389     1.0  0.369231  0.464557        0.166667                   0  0.015437\n",
       "760      1.0  0.369231  0.462025        0.166667                   0  0.015437\n",
       "2254     1.0  0.400000  0.455696        0.166667                   0  0.017157\n",
       "3261     1.0  0.400000  0.473418        0.166667                   0  0.018418"
      ]
     },
     "execution_count": 18,
     "metadata": {},
     "output_type": "execute_result"
    }
   ],
   "source": [
    "escale_euclidean = get_knn(df_scaled, n=10, k=6, metric='minkowski')\n",
    "escale_euclidean.head(10)"
   ]
  },
  {
   "cell_type": "code",
   "execution_count": 19,
   "metadata": {},
   "outputs": [
    {
     "data": {
      "text/html": [
       "<div>\n",
       "<style scoped>\n",
       "    .dataframe tbody tr th:only-of-type {\n",
       "        vertical-align: middle;\n",
       "    }\n",
       "\n",
       "    .dataframe tbody tr th {\n",
       "        vertical-align: top;\n",
       "    }\n",
       "\n",
       "    .dataframe thead th {\n",
       "        text-align: right;\n",
       "    }\n",
       "</style>\n",
       "<table border=\"1\" class=\"dataframe\">\n",
       "  <thead>\n",
       "    <tr style=\"text-align: right;\">\n",
       "      <th></th>\n",
       "      <th>gender</th>\n",
       "      <th>age</th>\n",
       "      <th>income</th>\n",
       "      <th>family_members</th>\n",
       "      <th>insurance_benefits</th>\n",
       "      <th>distance</th>\n",
       "    </tr>\n",
       "  </thead>\n",
       "  <tbody>\n",
       "    <tr>\n",
       "      <th>10</th>\n",
       "      <td>1</td>\n",
       "      <td>25</td>\n",
       "      <td>36600.0</td>\n",
       "      <td>1</td>\n",
       "      <td>0</td>\n",
       "      <td>0.0</td>\n",
       "    </tr>\n",
       "    <tr>\n",
       "      <th>4039</th>\n",
       "      <td>1</td>\n",
       "      <td>25</td>\n",
       "      <td>36600.0</td>\n",
       "      <td>2</td>\n",
       "      <td>0</td>\n",
       "      <td>1.0</td>\n",
       "    </tr>\n",
       "    <tr>\n",
       "      <th>2037</th>\n",
       "      <td>1</td>\n",
       "      <td>26</td>\n",
       "      <td>36600.0</td>\n",
       "      <td>0</td>\n",
       "      <td>0</td>\n",
       "      <td>2.0</td>\n",
       "    </tr>\n",
       "    <tr>\n",
       "      <th>3247</th>\n",
       "      <td>1</td>\n",
       "      <td>26</td>\n",
       "      <td>36600.0</td>\n",
       "      <td>2</td>\n",
       "      <td>0</td>\n",
       "      <td>2.0</td>\n",
       "    </tr>\n",
       "    <tr>\n",
       "      <th>1508</th>\n",
       "      <td>0</td>\n",
       "      <td>26</td>\n",
       "      <td>36600.0</td>\n",
       "      <td>0</td>\n",
       "      <td>0</td>\n",
       "      <td>3.0</td>\n",
       "    </tr>\n",
       "    <tr>\n",
       "      <th>1949</th>\n",
       "      <td>0</td>\n",
       "      <td>24</td>\n",
       "      <td>36600.0</td>\n",
       "      <td>0</td>\n",
       "      <td>0</td>\n",
       "      <td>3.0</td>\n",
       "    </tr>\n",
       "  </tbody>\n",
       "</table>\n",
       "</div>"
      ],
      "text/plain": [
       "      gender  age   income  family_members  insurance_benefits  distance\n",
       "10         1   25  36600.0               1                   0       0.0\n",
       "4039       1   25  36600.0               2                   0       1.0\n",
       "2037       1   26  36600.0               0                   0       2.0\n",
       "3247       1   26  36600.0               2                   0       2.0\n",
       "1508       0   26  36600.0               0                   0       3.0\n",
       "1949       0   24  36600.0               0                   0       3.0"
      ]
     },
     "execution_count": 19,
     "metadata": {},
     "output_type": "execute_result"
    }
   ],
   "source": [
    "no_escale_manhattan = get_knn(df, n=10, k=6, metric='manhattan')\n",
    "no_escale_manhattan.head(10)"
   ]
  },
  {
   "cell_type": "code",
   "execution_count": 20,
   "metadata": {},
   "outputs": [
    {
     "data": {
      "text/html": [
       "<div>\n",
       "<style scoped>\n",
       "    .dataframe tbody tr th:only-of-type {\n",
       "        vertical-align: middle;\n",
       "    }\n",
       "\n",
       "    .dataframe tbody tr th {\n",
       "        vertical-align: top;\n",
       "    }\n",
       "\n",
       "    .dataframe thead th {\n",
       "        text-align: right;\n",
       "    }\n",
       "</style>\n",
       "<table border=\"1\" class=\"dataframe\">\n",
       "  <thead>\n",
       "    <tr style=\"text-align: right;\">\n",
       "      <th></th>\n",
       "      <th>gender</th>\n",
       "      <th>age</th>\n",
       "      <th>income</th>\n",
       "      <th>family_members</th>\n",
       "      <th>insurance_benefits</th>\n",
       "      <th>distance</th>\n",
       "    </tr>\n",
       "  </thead>\n",
       "  <tbody>\n",
       "    <tr>\n",
       "      <th>10</th>\n",
       "      <td>1.0</td>\n",
       "      <td>0.384615</td>\n",
       "      <td>0.463291</td>\n",
       "      <td>0.166667</td>\n",
       "      <td>0</td>\n",
       "      <td>0.000000</td>\n",
       "    </tr>\n",
       "    <tr>\n",
       "      <th>4377</th>\n",
       "      <td>1.0</td>\n",
       "      <td>0.384615</td>\n",
       "      <td>0.473418</td>\n",
       "      <td>0.166667</td>\n",
       "      <td>0</td>\n",
       "      <td>0.010127</td>\n",
       "    </tr>\n",
       "    <tr>\n",
       "      <th>1389</th>\n",
       "      <td>1.0</td>\n",
       "      <td>0.369231</td>\n",
       "      <td>0.464557</td>\n",
       "      <td>0.166667</td>\n",
       "      <td>0</td>\n",
       "      <td>0.016650</td>\n",
       "    </tr>\n",
       "    <tr>\n",
       "      <th>760</th>\n",
       "      <td>1.0</td>\n",
       "      <td>0.369231</td>\n",
       "      <td>0.462025</td>\n",
       "      <td>0.166667</td>\n",
       "      <td>0</td>\n",
       "      <td>0.016650</td>\n",
       "    </tr>\n",
       "    <tr>\n",
       "      <th>2254</th>\n",
       "      <td>1.0</td>\n",
       "      <td>0.400000</td>\n",
       "      <td>0.455696</td>\n",
       "      <td>0.166667</td>\n",
       "      <td>0</td>\n",
       "      <td>0.022980</td>\n",
       "    </tr>\n",
       "    <tr>\n",
       "      <th>26</th>\n",
       "      <td>1.0</td>\n",
       "      <td>0.384615</td>\n",
       "      <td>0.437975</td>\n",
       "      <td>0.166667</td>\n",
       "      <td>0</td>\n",
       "      <td>0.025316</td>\n",
       "    </tr>\n",
       "  </tbody>\n",
       "</table>\n",
       "</div>"
      ],
      "text/plain": [
       "      gender       age    income  family_members  insurance_benefits  distance\n",
       "10       1.0  0.384615  0.463291        0.166667                   0  0.000000\n",
       "4377     1.0  0.384615  0.473418        0.166667                   0  0.010127\n",
       "1389     1.0  0.369231  0.464557        0.166667                   0  0.016650\n",
       "760      1.0  0.369231  0.462025        0.166667                   0  0.016650\n",
       "2254     1.0  0.400000  0.455696        0.166667                   0  0.022980\n",
       "26       1.0  0.384615  0.437975        0.166667                   0  0.025316"
      ]
     },
     "execution_count": 20,
     "metadata": {},
     "output_type": "execute_result"
    }
   ],
   "source": [
    "escale_manhattan = get_knn(df_scaled, n=10, k=6, metric='manhattan')\n",
    "escale_manhattan.head(10)"
   ]
  },
  {
   "cell_type": "markdown",
   "metadata": {},
   "source": [
    "Respuestas a las preguntas"
   ]
  },
  {
   "cell_type": "markdown",
   "metadata": {},
   "source": [
    "**¿El hecho de que los datos no estén escalados afecta al algoritmo kNN? Si es así, ¿cómo se manifiesta?** \n",
    "\n",
    "Si afecta, en el hecho de que la magnitud de las distancias es más pequeña, y presenta valores similares también en el escalado."
   ]
  },
  {
   "cell_type": "markdown",
   "metadata": {},
   "source": [
    "**¿Qué tan similares son los resultados al utilizar la métrica de distancia Manhattan (independientemente del escalado)?** \n",
    "\n",
    "Estos son ligeramente más altos que la métrica euclidiana, sin embargo, aún asi, son ligeramente similares."
   ]
  },
  {
   "cell_type": "markdown",
   "metadata": {},
   "source": [
    "# Tarea 2. ¿Es probable que el cliente reciba una prestación del seguro?"
   ]
  },
  {
   "cell_type": "markdown",
   "metadata": {},
   "source": [
    "En términos de machine learning podemos considerarlo como una tarea de clasificación binaria."
   ]
  },
  {
   "cell_type": "markdown",
   "metadata": {},
   "source": [
    "Con el valor de `insurance_benefits` superior a cero como objetivo, evalúa si el enfoque de clasificación kNN puede funcionar mejor que el modelo dummy.\n",
    "Instrucciones:\n",
    "- Construye un clasificador basado en KNN y mide su calidad con la métrica F1 para k=1...10 tanto para los datos originales como para los escalados. Sería interesante observar cómo k puede influir en la métrica de evaluación y si el escalado de los datos provoca alguna diferencia. Puedes utilizar una implementación ya existente del algoritmo de clasificación kNN de scikit-learn (consulta [el enlace](https://scikit-learn.org/stable/modules/generated/sklearn.neighbors.KNeighborsClassifier.html)) o tu propia implementación.- Construye un modelo dummy que, en este caso, es simplemente un modelo aleatorio. Debería devolver \"1\" con cierta probabilidad. Probemos el modelo con cuatro valores de probabilidad: 0, la probabilidad de pagar cualquier prestación del seguro, 0.5, 1.\n",
    "La probabilidad de pagar cualquier prestación del seguro puede definirse como\n",
    "$$\n",
    "P\\{\\text{prestación de seguro recibida}\\}=\\frac{\\text{número de clientes que han recibido alguna prestación de seguro}}{\\text{número total de clientes}}.\n",
    "$$\n",
    "\n",
    "Divide todos los datos correspondientes a las etapas de entrenamiento/prueba respetando la proporción 70:30."
   ]
  },
  {
   "cell_type": "code",
   "execution_count": 21,
   "metadata": {},
   "outputs": [],
   "source": [
    "# сalcula el objetivo\n",
    "\n",
    "df['insurance_benefits_received'] = df['insurance_benefits'].apply(lambda x: 1 if x != 0 else 0)\n",
    "\n",
    "features = df[['gender', 'age', 'income', 'family_members']].reset_index(drop=True)\n",
    "target = df['insurance_benefits_received'].reset_index(drop=True)\n",
    "\n",
    "features_train, features_test, target_train, target_test = train_test_split(features, target, test_size=0.3, random_state=123)\n",
    "n_neighbors = 1"
   ]
  },
  {
   "cell_type": "code",
   "execution_count": 22,
   "metadata": {
    "scrolled": true
   },
   "outputs": [
    {
     "name": "stdout",
     "output_type": "stream",
     "text": [
      "Conteo de clases:\n",
      "0    4436\n",
      "1     564\n",
      "Name: insurance_benefits_received, dtype: int64\n"
     ]
    }
   ],
   "source": [
    "# comprueba el desequilibrio de clases con value_counts()\n",
    "\n",
    "y = df['insurance_benefits_received']\n",
    "class_counts = y.value_counts()\n",
    "\n",
    "print(\"Conteo de clases:\")\n",
    "print(class_counts)"
   ]
  },
  {
   "cell_type": "code",
   "execution_count": 23,
   "metadata": {},
   "outputs": [],
   "source": [
    "def eval_classifier(y_true, y_pred):\n",
    "    \n",
    "    f1_score = sklearn.metrics.f1_score(y_true, y_pred)\n",
    "    print(f'F1: {f1_score:.2f}')\n",
    "    \n",
    "# si tienes algún problema con la siguiente línea, reinicia el kernel y ejecuta el cuaderno de nuevo    \n",
    "\n",
    "    cm = sklearn.metrics.confusion_matrix(y_true, y_pred, normalize='all')\n",
    "    #print('Matriz de confusión')\n",
    "    #print(cm)\n",
    "    return f1_score"
   ]
  },
  {
   "cell_type": "code",
   "execution_count": 24,
   "metadata": {},
   "outputs": [],
   "source": [
    "# generar la salida de un modelo aleatorio\n",
    "\n",
    "def rnd_model_predict(P, size, seed=42):\n",
    "\n",
    "    rng = np.random.default_rng(seed=seed)\n",
    "    return rng.binomial(n=1, p=P, size=size)"
   ]
  },
  {
   "cell_type": "code",
   "execution_count": 25,
   "metadata": {},
   "outputs": [
    {
     "name": "stdout",
     "output_type": "stream",
     "text": [
      "La probabilidad: 0.00\n",
      "F1: 0.00\n",
      "\n",
      "La probabilidad: 0.11\n",
      "F1: 0.12\n",
      "\n",
      "La probabilidad: 0.50\n",
      "F1: 0.20\n",
      "\n",
      "La probabilidad: 1.00\n",
      "F1: 0.20\n",
      "\n"
     ]
    }
   ],
   "source": [
    "#Se evalúa el modelo dummy con diferentes valores\n",
    "\n",
    "for P in [0, df['insurance_benefits_received'].sum() / len(df), 0.5, 1]:\n",
    "\n",
    "    print(f'La probabilidad: {P:.2f}')\n",
    "    y_pred_rnd = rnd_model_predict(P, size=len(df))\n",
    "        \n",
    "    eval_classifier(df['insurance_benefits_received'], y_pred_rnd)\n",
    "    \n",
    "    print()"
   ]
  },
  {
   "cell_type": "code",
   "execution_count": 26,
   "metadata": {
    "scrolled": true
   },
   "outputs": [
    {
     "name": "stdout",
     "output_type": "stream",
     "text": [
      "F1: 0.67\n",
      "Vecinos más cercanos: 1, F1: 0.67\n",
      "F1: 0.40\n",
      "Vecinos más cercanos: 2, F1: 0.40\n",
      "F1: 0.41\n",
      "Vecinos más cercanos: 3, F1: 0.41\n",
      "F1: 0.20\n",
      "Vecinos más cercanos: 4, F1: 0.20\n",
      "F1: 0.23\n",
      "Vecinos más cercanos: 5, F1: 0.23\n",
      "F1: 0.14\n",
      "Vecinos más cercanos: 6, F1: 0.14\n",
      "F1: 0.14\n",
      "Vecinos más cercanos: 7, F1: 0.14\n",
      "F1: 0.06\n",
      "Vecinos más cercanos: 8, F1: 0.06\n",
      "F1: 0.08\n",
      "Vecinos más cercanos: 9, F1: 0.08\n",
      "F1: 0.03\n",
      "Vecinos más cercanos: 10, F1: 0.03\n"
     ]
    }
   ],
   "source": [
    "#Se evalúa el modelo con la data sin escalar con valores de 1 - 10 neighbors\n",
    "\n",
    "f1_scores = []\n",
    "\n",
    "for n_neighbors in range (1,11):\n",
    "    \n",
    "    knn_classifier = KNeighborsClassifier(n_neighbors=n_neighbors)\n",
    "    knn_classifier.fit(features_train, target_train)\n",
    "\n",
    "    # Realizar predicciones en el conjunto de prueba\n",
    "    y_pred = knn_classifier.predict(features_test)\n",
    "    \n",
    "    #Evaluamos los modelos y vamos agregando los resultados a la lista f1_scores\n",
    "    f1_score = eval_classifier(target_test, y_pred)\n",
    "    f1_scores.append((n_neighbors,f1_score))\n",
    "    \n",
    "    print(f\"Vecinos más cercanos: {n_neighbors}, F1: {f1_score:.2f}\")"
   ]
  },
  {
   "cell_type": "code",
   "execution_count": 27,
   "metadata": {},
   "outputs": [],
   "source": [
    "#Se entrena el modelo ahora con la data escalada, se evalúa con valores de 1 a 10 neighbors\n",
    "\n",
    "df_scaled['insurance_benefits_received'] = df_scaled['insurance_benefits'].apply(lambda x: 1 if x != 0 else 0)\n",
    "\n",
    "# сalcula el objetivo\n",
    "features = df_scaled[['gender', 'age', 'income', 'family_members']].reset_index(drop=True)\n",
    "target = df_scaled['insurance_benefits_received'].reset_index(drop=True)\n",
    "\n",
    "features_train, features_test, target_train, target_test = train_test_split(features, target, test_size=0.3, random_state=123)"
   ]
  },
  {
   "cell_type": "code",
   "execution_count": 28,
   "metadata": {},
   "outputs": [
    {
     "name": "stdout",
     "output_type": "stream",
     "text": [
      "F1: 0.95\n",
      "Vecinos más cercanos: 1, F1: 0.95\n",
      "F1: 0.92\n",
      "Vecinos más cercanos: 2, F1: 0.92\n",
      "F1: 0.93\n",
      "Vecinos más cercanos: 3, F1: 0.93\n",
      "F1: 0.90\n",
      "Vecinos más cercanos: 4, F1: 0.90\n",
      "F1: 0.92\n",
      "Vecinos más cercanos: 5, F1: 0.92\n",
      "F1: 0.93\n",
      "Vecinos más cercanos: 6, F1: 0.93\n",
      "F1: 0.94\n",
      "Vecinos más cercanos: 7, F1: 0.94\n",
      "F1: 0.93\n",
      "Vecinos más cercanos: 8, F1: 0.93\n",
      "F1: 0.93\n",
      "Vecinos más cercanos: 9, F1: 0.93\n",
      "F1: 0.91\n",
      "Vecinos más cercanos: 10, F1: 0.91\n"
     ]
    }
   ],
   "source": [
    "f1_scores_scaled = []\n",
    "\n",
    "for n_neighbors in range (1,11):\n",
    "\n",
    "    knn_classifier = KNeighborsClassifier(n_neighbors=n_neighbors)\n",
    "    knn_classifier.fit(features_train, target_train)\n",
    "\n",
    "    # Realizar predicciones en el conjunto de prueba\n",
    "    y_pred = knn_classifier.predict(features_test)\n",
    "    \n",
    "    #Evaluamos los modelos y vamos agregando los resultados a la lista f1_scores\n",
    "    f1_score = eval_classifier(target_test, y_pred)\n",
    "    f1_scores_scaled.append((n_neighbors,f1_score))\n",
    "    \n",
    "    print(f\"Vecinos más cercanos: {n_neighbors}, F1: {f1_score:.2f}\")"
   ]
  },
  {
   "cell_type": "markdown",
   "metadata": {},
   "source": [
    "En esta sección se pudo observar que para el caso del modelo dummie, el resultado de F1 más cercano a 1 fue de 0.2, que es un valor bajo. Por otro lado, al evaluar el modelo con la data sin escalar, se obtuvo un resultado de F1 con valor de 0.67, que es mejor al modelo dummie, sin embargo, sigue siendo un valor bajo, adicional a este detalle, también se puede observar que conforme aumentan los neighbors, el valor de F1 disminuye. Por otro lado, al evaluar el modelo con la data escalada, el valor de F1 salió bastante más alto con un resultado de 0.95, mostrando un buen equilibrio entre precisión y recuperación, adicional a esto, los valores que arroja con el total de neighbors esta un poco más constante."
   ]
  },
  {
   "cell_type": "markdown",
   "metadata": {},
   "source": [
    "# Tarea 3. Regresión (con regresión lineal)"
   ]
  },
  {
   "cell_type": "markdown",
   "metadata": {},
   "source": [
    "Con `insurance_benefits` como objetivo, evalúa cuál sería la RECM de un modelo de regresión lineal."
   ]
  },
  {
   "cell_type": "markdown",
   "metadata": {},
   "source": [
    "Construye tu propia implementación de regresión lineal. Para ello, recuerda cómo está formulada la solución de la tarea de regresión lineal en términos de LA. Comprueba la RECM tanto para los datos originales como para los escalados. ¿Puedes ver alguna diferencia en la RECM con respecto a estos dos casos?\n",
    "\n",
    "Denotemos- $X$: matriz de características; cada fila es un caso, cada columna es una característica, la primera columna está formada por unidades- $y$ — objetivo (un vector)- $\\hat{y}$ — objetivo estimado (un vector)- $w$ — vector de pesos\n",
    "La tarea de regresión lineal en el lenguaje de las matrices puede formularse así:\n",
    "$$\n",
    "y = Xw\n",
    "$$\n",
    "\n",
    "El objetivo de entrenamiento es entonces encontrar esa $w$ w que minimice la distancia L2 (ECM) entre $Xw$ y $y$:\n",
    "\n",
    "$$\n",
    "\\min_w d_2(Xw, y) \\quad \\text{or} \\quad \\min_w \\text{MSE}(Xw, y)\n",
    "$$\n",
    "\n",
    "Parece que hay una solución analítica para lo anteriormente expuesto:\n",
    "$$\n",
    "w = (X^T X)^{-1} X^T y\n",
    "$$\n",
    "\n",
    "La fórmula anterior puede servir para encontrar los pesos $w$ y estos últimos pueden utilizarse para calcular los valores predichos\n",
    "$$\n",
    "\\hat{y} = X_{val}w\n",
    "$$"
   ]
  },
  {
   "cell_type": "markdown",
   "metadata": {},
   "source": [
    "Divide todos los datos correspondientes a las etapas de entrenamiento/prueba respetando la proporción 70:30. Utiliza la métrica RECM para evaluar el modelo."
   ]
  },
  {
   "cell_type": "code",
   "execution_count": 29,
   "metadata": {},
   "outputs": [],
   "source": [
    "class MyLinearRegression:\n",
    "    \n",
    "    def __init__(self):\n",
    "        \n",
    "        self.weights = None\n",
    "    \n",
    "    def fit(self, X, y):\n",
    "        \n",
    "        # añadir las unidades\n",
    "        X2 = np.append(np.ones([len(X), 1]), X, axis=1)\n",
    "        self.weights = np.linalg.inv(X2.T.dot(X2)).dot(X2.T).dot(y)\n",
    "\n",
    "    def predict(self, X):\n",
    "        \n",
    "        # añadir las unidades\n",
    "        X2 = np.append(np.ones([len(X), 1]), X, axis=1)\n",
    "        y_pred = X2.dot(self.weights)\n",
    "        \n",
    "        return y_pred"
   ]
  },
  {
   "cell_type": "code",
   "execution_count": 30,
   "metadata": {},
   "outputs": [],
   "source": [
    "def eval_regressor(y_true, y_pred):\n",
    "    \n",
    "    rmse = math.sqrt(sklearn.metrics.mean_squared_error(y_true, y_pred))\n",
    "    print(f'RMSE: {rmse:.2f}')\n",
    "    \n",
    "    r2_score = math.sqrt(sklearn.metrics.r2_score(y_true, y_pred))\n",
    "    print(f'R2: {r2_score:.2f}')    "
   ]
  },
  {
   "cell_type": "code",
   "execution_count": 31,
   "metadata": {},
   "outputs": [
    {
     "name": "stdout",
     "output_type": "stream",
     "text": [
      "[-9.43539012e-01  3.57495491e-02  1.64272726e-02 -2.60743659e-07\n",
      " -1.16902127e-02]\n",
      "RMSE: 0.34\n",
      "R2: 0.66\n"
     ]
    }
   ],
   "source": [
    "X = df[['age', 'gender', 'income', 'family_members']].to_numpy()\n",
    "y = df['insurance_benefits'].to_numpy()\n",
    "\n",
    "X_train, X_test, y_train, y_test = train_test_split(X, y, test_size=0.3, random_state=12345)\n",
    "\n",
    "lr = MyLinearRegression()\n",
    "\n",
    "lr.fit(X_train, y_train)\n",
    "print(lr.weights)\n",
    "\n",
    "y_test_pred = lr.predict(X_test)\n",
    "eval_regressor(y_test, y_test_pred)"
   ]
  },
  {
   "cell_type": "code",
   "execution_count": 32,
   "metadata": {},
   "outputs": [
    {
     "name": "stdout",
     "output_type": "stream",
     "text": [
      "[-0.94353901  2.32372069  0.01642727 -0.02059875 -0.07014128]\n",
      "RMSE: 0.34\n",
      "R2: 0.66\n"
     ]
    }
   ],
   "source": [
    "X = df_scaled[['age', 'gender', 'income', 'family_members']].to_numpy()\n",
    "y = df_scaled['insurance_benefits'].to_numpy()\n",
    "\n",
    "X_train, X_test, y_train, y_test = train_test_split(X, y, test_size=0.3, random_state=12345)\n",
    "\n",
    "lr = MyLinearRegression()\n",
    "\n",
    "lr.fit(X_train, y_train)\n",
    "print(lr.weights)\n",
    "\n",
    "y_test_pred = lr.predict(X_test)\n",
    "eval_regressor(y_test, y_test_pred)"
   ]
  },
  {
   "cell_type": "markdown",
   "metadata": {},
   "source": [
    "Después de implementar el modelo de regresión lineal, no observamos un cambio visible entre el dataframe sin escalar y el dataframe escalado."
   ]
  },
  {
   "cell_type": "markdown",
   "metadata": {},
   "source": [
    "# Tarea 4. Ofuscar datos"
   ]
  },
  {
   "cell_type": "markdown",
   "metadata": {},
   "source": [
    "Lo mejor es ofuscar los datos multiplicando las características numéricas (recuerda que se pueden ver como la matriz $X$) por una matriz invertible $P$. \n",
    "\n",
    "$$\n",
    "X' = X \\times P\n",
    "$$\n",
    "\n",
    "Trata de hacerlo y comprueba cómo quedarán los valores de las características después de la transformación. Por cierto, la propiedad de invertibilidad es importante aquí, así que asegúrate de que $P$ sea realmente invertible.\n",
    "\n",
    "Puedes revisar la lección 'Matrices y operaciones matriciales -> Multiplicación de matrices' para recordar la regla de multiplicación de matrices y su implementación con NumPy."
   ]
  },
  {
   "cell_type": "code",
   "execution_count": 33,
   "metadata": {},
   "outputs": [],
   "source": [
    "personal_info_column_list = ['gender', 'age', 'income', 'family_members']\n",
    "df_pn = df[personal_info_column_list]"
   ]
  },
  {
   "cell_type": "code",
   "execution_count": 34,
   "metadata": {},
   "outputs": [],
   "source": [
    "X = df_pn.to_numpy()"
   ]
  },
  {
   "cell_type": "markdown",
   "metadata": {},
   "source": [
    "Generar una matriz aleatoria $P$."
   ]
  },
  {
   "cell_type": "code",
   "execution_count": 35,
   "metadata": {},
   "outputs": [],
   "source": [
    "rng = np.random.default_rng(seed=42)\n",
    "P = rng.random(size=(X.shape[1], X.shape[1]))"
   ]
  },
  {
   "cell_type": "markdown",
   "metadata": {},
   "source": [
    "Comprobar que la matriz P sea invertible"
   ]
  },
  {
   "cell_type": "code",
   "execution_count": 36,
   "metadata": {},
   "outputs": [],
   "source": [
    "def invertible(matriz):\n",
    "    try:\n",
    "        # Intentamos calcular la inversa de la matriz\n",
    "        np.linalg.inv(matriz)\n",
    "        return True\n",
    "    except np.linalg.LinAlgError:\n",
    "        # Si se genera un error, la matriz no es invertible\n",
    "        return False"
   ]
  },
  {
   "cell_type": "code",
   "execution_count": 37,
   "metadata": {},
   "outputs": [
    {
     "name": "stdout",
     "output_type": "stream",
     "text": [
      "La matriz P es: Invertible.\n"
     ]
    }
   ],
   "source": [
    "# Verificamos si la matriz P es invertible\n",
    "inv = invertible(P)\n",
    "\n",
    "# Imprimimos el resultado\n",
    "print(f\"La matriz P es: {'Invertible' if inv else 'No Invertible'}.\")"
   ]
  },
  {
   "cell_type": "code",
   "execution_count": 38,
   "metadata": {},
   "outputs": [
    {
     "data": {
      "text/html": [
       "<div>\n",
       "<style scoped>\n",
       "    .dataframe tbody tr th:only-of-type {\n",
       "        vertical-align: middle;\n",
       "    }\n",
       "\n",
       "    .dataframe tbody tr th {\n",
       "        vertical-align: top;\n",
       "    }\n",
       "\n",
       "    .dataframe thead th {\n",
       "        text-align: right;\n",
       "    }\n",
       "</style>\n",
       "<table border=\"1\" class=\"dataframe\">\n",
       "  <thead>\n",
       "    <tr style=\"text-align: right;\">\n",
       "      <th></th>\n",
       "      <th>0</th>\n",
       "      <th>1</th>\n",
       "      <th>2</th>\n",
       "      <th>3</th>\n",
       "    </tr>\n",
       "  </thead>\n",
       "  <tbody>\n",
       "    <tr>\n",
       "      <th>0</th>\n",
       "      <td>6359.715273</td>\n",
       "      <td>22380.404676</td>\n",
       "      <td>18424.090742</td>\n",
       "      <td>46000.696690</td>\n",
       "    </tr>\n",
       "    <tr>\n",
       "      <th>1</th>\n",
       "      <td>4873.294065</td>\n",
       "      <td>17160.367030</td>\n",
       "      <td>14125.780761</td>\n",
       "      <td>35253.455773</td>\n",
       "    </tr>\n",
       "    <tr>\n",
       "      <th>2</th>\n",
       "      <td>2693.117429</td>\n",
       "      <td>9486.397744</td>\n",
       "      <td>7808.831560</td>\n",
       "      <td>19484.860631</td>\n",
       "    </tr>\n",
       "    <tr>\n",
       "      <th>3</th>\n",
       "      <td>5345.603937</td>\n",
       "      <td>18803.227203</td>\n",
       "      <td>15479.148373</td>\n",
       "      <td>38663.061863</td>\n",
       "    </tr>\n",
       "    <tr>\n",
       "      <th>4</th>\n",
       "      <td>3347.176735</td>\n",
       "      <td>11782.829283</td>\n",
       "      <td>9699.998942</td>\n",
       "      <td>24211.273378</td>\n",
       "    </tr>\n",
       "  </tbody>\n",
       "</table>\n",
       "</div>"
      ],
      "text/plain": [
       "             0             1             2             3\n",
       "0  6359.715273  22380.404676  18424.090742  46000.696690\n",
       "1  4873.294065  17160.367030  14125.780761  35253.455773\n",
       "2  2693.117429   9486.397744   7808.831560  19484.860631\n",
       "3  5345.603937  18803.227203  15479.148373  38663.061863\n",
       "4  3347.176735  11782.829283   9699.998942  24211.273378"
      ]
     },
     "execution_count": 38,
     "metadata": {},
     "output_type": "execute_result"
    }
   ],
   "source": [
    "#Se calcula la multiplicación de las matrices\n",
    "\n",
    "hide_matrix = np.dot(X,P)\n",
    "df_hide_matrix = pd.DataFrame(hide_matrix)\n",
    "df_hide_matrix.head()"
   ]
  },
  {
   "cell_type": "markdown",
   "metadata": {},
   "source": [
    "¿Puedes adivinar la edad o los ingresos de los clientes después de la transformación?"
   ]
  },
  {
   "cell_type": "code",
   "execution_count": 39,
   "metadata": {},
   "outputs": [
    {
     "data": {
      "text/html": [
       "<div>\n",
       "<style scoped>\n",
       "    .dataframe tbody tr th:only-of-type {\n",
       "        vertical-align: middle;\n",
       "    }\n",
       "\n",
       "    .dataframe tbody tr th {\n",
       "        vertical-align: top;\n",
       "    }\n",
       "\n",
       "    .dataframe thead th {\n",
       "        text-align: right;\n",
       "    }\n",
       "</style>\n",
       "<table border=\"1\" class=\"dataframe\">\n",
       "  <thead>\n",
       "    <tr style=\"text-align: right;\">\n",
       "      <th></th>\n",
       "      <th>gender</th>\n",
       "      <th>age</th>\n",
       "      <th>income</th>\n",
       "      <th>family_members</th>\n",
       "    </tr>\n",
       "  </thead>\n",
       "  <tbody>\n",
       "    <tr>\n",
       "      <th>0</th>\n",
       "      <td>1</td>\n",
       "      <td>41</td>\n",
       "      <td>49600.0</td>\n",
       "      <td>1</td>\n",
       "    </tr>\n",
       "    <tr>\n",
       "      <th>1</th>\n",
       "      <td>0</td>\n",
       "      <td>46</td>\n",
       "      <td>38000.0</td>\n",
       "      <td>1</td>\n",
       "    </tr>\n",
       "    <tr>\n",
       "      <th>2</th>\n",
       "      <td>0</td>\n",
       "      <td>29</td>\n",
       "      <td>21000.0</td>\n",
       "      <td>0</td>\n",
       "    </tr>\n",
       "    <tr>\n",
       "      <th>3</th>\n",
       "      <td>0</td>\n",
       "      <td>21</td>\n",
       "      <td>41700.0</td>\n",
       "      <td>2</td>\n",
       "    </tr>\n",
       "    <tr>\n",
       "      <th>4</th>\n",
       "      <td>1</td>\n",
       "      <td>28</td>\n",
       "      <td>26100.0</td>\n",
       "      <td>0</td>\n",
       "    </tr>\n",
       "  </tbody>\n",
       "</table>\n",
       "</div>"
      ],
      "text/plain": [
       "   gender  age   income  family_members\n",
       "0       1   41  49600.0               1\n",
       "1       0   46  38000.0               1\n",
       "2       0   29  21000.0               0\n",
       "3       0   21  41700.0               2\n",
       "4       1   28  26100.0               0"
      ]
     },
     "execution_count": 39,
     "metadata": {},
     "output_type": "execute_result"
    }
   ],
   "source": [
    "df_pn.head()"
   ]
  },
  {
   "cell_type": "markdown",
   "metadata": {},
   "source": [
    "Si se compara el df original con el df que nos arroja después de la ofuscación de la data, se puede observar que no sería posible adivinar la edad o ingresos del cliente después de la transformación."
   ]
  },
  {
   "cell_type": "markdown",
   "metadata": {},
   "source": [
    "¿Puedes recuperar los datos originales de $X'$ si conoces $P$? Intenta comprobarlo a través de los cálculos moviendo $P$ del lado derecho de la fórmula anterior al izquierdo. En este caso las reglas de la multiplicación matricial son realmente útiles"
   ]
  },
  {
   "cell_type": "code",
   "execution_count": 40,
   "metadata": {},
   "outputs": [],
   "source": [
    "#Para recuperar los datos originales debemos multiplicar la matriz por la inversa de la matriz P\n",
    "recovered_matrix = np.dot(hide_matrix,np.linalg.inv(P))\n",
    "df_recovered_matrix = pd.DataFrame(recovered_matrix)"
   ]
  },
  {
   "cell_type": "markdown",
   "metadata": {},
   "source": [
    "Muestra los tres casos para algunos clientes- Datos originales\n",
    "- El que está transformado- El que está invertido (recuperado)"
   ]
  },
  {
   "cell_type": "code",
   "execution_count": 41,
   "metadata": {},
   "outputs": [
    {
     "name": "stdout",
     "output_type": "stream",
     "text": [
      "   gender  age   income  family_members\n",
      "0       1   41  49600.0               1\n",
      "1       0   46  38000.0               1\n",
      "2       0   29  21000.0               0\n",
      "3       0   21  41700.0               2\n",
      "4       1   28  26100.0               0\n",
      "             0             1             2             3\n",
      "0  6359.715273  22380.404676  18424.090742  46000.696690\n",
      "1  4873.294065  17160.367030  14125.780761  35253.455773\n",
      "2  2693.117429   9486.397744   7808.831560  19484.860631\n",
      "3  5345.603937  18803.227203  15479.148373  38663.061863\n",
      "4  3347.176735  11782.829283   9699.998942  24211.273378\n",
      "              0     1        2             3\n",
      "0  1.000000e+00  41.0  49600.0  1.000000e+00\n",
      "1 -4.473636e-12  46.0  38000.0  1.000000e+00\n",
      "2 -2.515869e-12  29.0  21000.0  9.524523e-13\n",
      "3 -4.844982e-12  21.0  41700.0  2.000000e+00\n",
      "4  1.000000e+00  28.0  26100.0 -1.019907e-13\n"
     ]
    }
   ],
   "source": [
    "print(df_pn.head())\n",
    "print(df_hide_matrix.head())\n",
    "print(df_recovered_matrix.head())"
   ]
  },
  {
   "cell_type": "markdown",
   "metadata": {},
   "source": [
    "Seguramente puedes ver que algunos valores no son exactamente iguales a los de los datos originales. ¿Cuál podría ser la razón de ello?"
   ]
  },
  {
   "cell_type": "markdown",
   "metadata": {},
   "source": [
    "Probablemente puede deberse al hecho de estar manipulando matemáticamente los resultados, y ser números con bastantes decimales, puedan existir pequeñas variaciones de precisión al realizar las multiplicaciones de matrices de python."
   ]
  },
  {
   "cell_type": "markdown",
   "metadata": {},
   "source": [
    "## Prueba de que la ofuscación de datos puede funcionar con regresión lineal"
   ]
  },
  {
   "cell_type": "markdown",
   "metadata": {},
   "source": [
    "En este proyecto la tarea de regresión se ha resuelto con la regresión lineal. Tu siguiente tarea es demostrar _analytically_ que el método de ofuscación no afectará a la regresión lineal en términos de valores predichos, es decir, que sus valores seguirán siendo los mismos. ¿Lo puedes creer? Pues no hace falta que lo creas, ¡tienes que que demostrarlo!"
   ]
  },
  {
   "cell_type": "markdown",
   "metadata": {},
   "source": [
    "Entonces, los datos están ofuscados y ahora tenemos $X \\times P$ en lugar de tener solo $X$. En consecuencia, hay otros pesos $w_P$ como\n",
    "$$\n",
    "w = (X^T X)^{-1} X^T y \\quad \\Rightarrow \\quad w_P = [(XP)^T XP]^{-1} (XP)^T y\n",
    "$$\n",
    "\n",
    "¿Cómo se relacionarían $w$ y $w_P$ si simplificáramos la fórmula de $w_P$ anterior? \n",
    "\n",
    "¿Cuáles serían los valores predichos con $w_P$? \n",
    "\n",
    "¿Qué significa esto para la calidad de la regresión lineal si esta se mide mediante la RECM?\n",
    "Revisa el Apéndice B Propiedades de las matrices al final del cuaderno. ¡Allí encontrarás fórmulas muy útiles!\n",
    "\n",
    "No es necesario escribir código en esta sección, basta con una explicación analítica."
   ]
  },
  {
   "cell_type": "markdown",
   "metadata": {},
   "source": [
    "**Respuesta**"
   ]
  },
  {
   "cell_type": "markdown",
   "metadata": {},
   "source": []
  },
  {
   "cell_type": "markdown",
   "metadata": {},
   "source": [
    "**Prueba analítica**"
   ]
  },
  {
   "cell_type": "markdown",
   "metadata": {},
   "source": []
  },
  {
   "cell_type": "markdown",
   "metadata": {},
   "source": [
    "## Prueba de regresión lineal con ofuscación de datos"
   ]
  },
  {
   "cell_type": "markdown",
   "metadata": {},
   "source": [
    "Ahora, probemos que la regresión lineal pueda funcionar, en términos computacionales, con la transformación de ofuscación elegida.\n",
    "Construye un procedimiento o una clase que ejecute la regresión lineal opcionalmente con la ofuscación. Puedes usar una implementación de regresión lineal de scikit-learn o tu propia implementación.\n",
    "Ejecuta la regresión lineal para los datos originales y los ofuscados, compara los valores predichos y los valores de las métricas RMSE y $R^2$. ¿Hay alguna diferencia?"
   ]
  },
  {
   "cell_type": "markdown",
   "metadata": {},
   "source": [
    "**Procedimiento**\n",
    "\n",
    "- Crea una matriz cuadrada $P$ de números aleatorios.- Comprueba que sea invertible. Si no lo es, repite el primer paso hasta obtener una matriz invertible.- <¡ tu comentario aquí !>\n",
    "- Utiliza $XP$ como la nueva matriz de características"
   ]
  },
  {
   "cell_type": "code",
   "execution_count": 42,
   "metadata": {},
   "outputs": [],
   "source": [
    "# Crea una matriz cuadrada P de números aleatorios\n",
    "P = np.random.rand(X.shape[1], X.shape[1])\n",
    "\n",
    "# Comprueba que sea invertible. Si no lo es, repite el primer paso hasta obtener una matriz invertible\n",
    "while np.linalg.det(P) == 0:\n",
    "    P = np.random.rand(X.shape[1], X.shape[1])"
   ]
  },
  {
   "cell_type": "code",
   "execution_count": 43,
   "metadata": {},
   "outputs": [],
   "source": [
    "X = df_pn.to_numpy()\n",
    "# Utiliza XP como la nueva matriz de características\n",
    "XP = np.dot(X, P)"
   ]
  },
  {
   "cell_type": "code",
   "execution_count": 44,
   "metadata": {},
   "outputs": [
    {
     "name": "stdout",
     "output_type": "stream",
     "text": [
      "Datos originales, RMSE: 0.3512077581960692, R^2: 0.42494550286668\n",
      "Datos ofuscados, RMSE: 0.3512077581960681, R^2: 0.42494550286668364\n"
     ]
    }
   ],
   "source": [
    "#Se crea el modelo de regresión lineal\n",
    "model = LinearRegression()\n",
    "\n",
    "#Se ajusta el modelo a los datos originales\n",
    "model.fit(X, y)\n",
    "\n",
    "#Predecir los valores de y\n",
    "y_pred = model.predict(X)\n",
    "\n",
    "#Se calcula el RMSE y el R^2 para los datos originales\n",
    "rmse = np.sqrt(mean_squared_error(y, y_pred))\n",
    "r2 = r2_score(y, y_pred)\n",
    "print(f\"Datos originales, RMSE: {rmse}, R^2: {r2}\")\n",
    "\n",
    "#Se ajusta el modelo a los datos ofuscados\n",
    "model.fit(XP, y)\n",
    "\n",
    "#Predecir valores de y\n",
    "y_pred_P = model.predict(XP)\n",
    "\n",
    "#Se calcula el RMSE y el R^2 para los datos ofuscados\n",
    "rmse_P = np.sqrt(mean_squared_error(y, y_pred_P))\n",
    "r2_P = r2_score(y, y_pred_P)\n",
    "print(f\"Datos ofuscados, RMSE: {rmse_P}, R^2: {r2_P}\")"
   ]
  },
  {
   "cell_type": "markdown",
   "metadata": {},
   "source": [
    "# Conclusiones"
   ]
  },
  {
   "cell_type": "markdown",
   "metadata": {},
   "source": [
    "Como conclusión podemos ver que mediante el uso de machine learning se puede resolver de manera adecuada el proyecto asignado, logrando predecir si el cliente podrá recibir o no el servicio de la aseguranza. Por otro lado, también podemos constatar que mediante la aplicación de álgebra lineal se puede proteger la integridad de la data confidencial (algo que es de suma importancia) para lograr mayor nivel de seguridad sin perjudicar la precisión y resultados del modelo, así como tampoco comprometer la data proporcionada."
   ]
  },
  {
   "cell_type": "markdown",
   "metadata": {},
   "source": [
    "# Lista de control"
   ]
  },
  {
   "cell_type": "markdown",
   "metadata": {},
   "source": [
    "Escribe 'x' para verificar. Luego presiona Shift+Enter."
   ]
  },
  {
   "cell_type": "markdown",
   "metadata": {},
   "source": [
    "- [x]  Jupyter Notebook está abierto\n",
    "- [x]  El código no tiene errores- [x]  Las celdas están ordenadas de acuerdo con la lógica y el orden de ejecución\n",
    "- [x]  Se ha realizado la tarea 1\n",
    "    - [x]  Está presente el procedimiento que puede devolver k clientes similares para un cliente determinado\n",
    "    - [x]  Se probó el procedimiento para las cuatro combinaciones propuestas    - [x]  Se respondieron las preguntas sobre la escala/distancia- [x]  Se ha realizado la tarea 2\n",
    "    - [x]  Se construyó y probó el modelo de clasificación aleatoria para todos los niveles de probabilidad    - [x]  Se construyó y probó el modelo de clasificación kNN tanto para los datos originales como para los escalados. Se calculó la métrica F1.- [x]  Se ha realizado la tarea 3\n",
    "    - [x]  Se implementó la solución de regresión lineal mediante operaciones matriciales    - [x]  Se calculó la RECM para la solución implementada- [x]  Se ha realizado la tarea 4\n",
    "    - [x]  Se ofuscaron los datos mediante una matriz aleatoria e invertible P    - [x]  Se recuperaron los datos ofuscados y se han mostrado algunos ejemplos    - [x]  Se proporcionó la prueba analítica de que la transformación no afecta a la RECM    - [x]  Se proporcionó la prueba computacional de que la transformación no afecta a la RECM- [x]  Se han sacado conclusiones"
   ]
  },
  {
   "cell_type": "markdown",
   "metadata": {},
   "source": [
    "# Apéndices\n",
    "\n",
    "## Apéndice A: Escribir fórmulas en los cuadernos de Jupyter"
   ]
  },
  {
   "cell_type": "markdown",
   "metadata": {},
   "source": [
    "Puedes escribir fórmulas en tu Jupyter Notebook utilizando un lenguaje de marcado proporcionado por un sistema de publicación de alta calidad llamado $\\LaTeX$ (se pronuncia como \"Lah-tech\"). Las fórmulas se verán como las de los libros de texto.\n",
    "\n",
    "Para incorporar una fórmula a un texto, pon el signo de dólar (\\\\$) antes y después del texto de la fórmula, por ejemplo: $\\frac{1}{2} \\times \\frac{3}{2} = \\frac{3}{4}$ or $y = x^2, x \\ge 1$.\n",
    "\n",
    "Si una fórmula debe estar en el mismo párrafo, pon el doble signo de dólar (\\\\$\\\\$) antes y después del texto de la fórmula, por ejemplo:\n",
    "$$\n",
    "\\bar{x} = \\frac{1}{n}\\sum_{i=1}^{n} x_i.\n",
    "$$\n",
    "\n",
    "El lenguaje de marcado de [LaTeX](https://es.wikipedia.org/wiki/LaTeX) es muy popular entre las personas que utilizan fórmulas en sus artículos, libros y textos. Puede resultar complicado, pero sus fundamentos son sencillos. Consulta esta [ficha de ayuda](http://tug.ctan.org/info/undergradmath/undergradmath.pdf) (materiales en inglés) de dos páginas para aprender a componer las fórmulas más comunes."
   ]
  },
  {
   "cell_type": "markdown",
   "metadata": {},
   "source": [
    "## Apéndice B: Propiedades de las matrices"
   ]
  },
  {
   "cell_type": "markdown",
   "metadata": {},
   "source": [
    "Las matrices tienen muchas propiedades en cuanto al álgebra lineal. Aquí se enumeran algunas de ellas que pueden ayudarte a la hora de realizar la prueba analítica de este proyecto."
   ]
  },
  {
   "cell_type": "markdown",
   "metadata": {},
   "source": [
    "<table>\n",
    "<tr>\n",
    "<td>Distributividad</td><td>$A(B+C)=AB+AC$</td>\n",
    "</tr>\n",
    "<tr>\n",
    "<td>No conmutatividad</td><td>$AB \\neq BA$</td>\n",
    "</tr>\n",
    "<tr>\n",
    "<td>Propiedad asociativa de la multiplicación</td><td>$(AB)C = A(BC)$</td>\n",
    "</tr>\n",
    "<tr>\n",
    "<td>Propiedad de identidad multiplicativa</td><td>$IA = AI = A$</td>\n",
    "</tr>\n",
    "<tr>\n",
    "<td></td><td>$A^{-1}A = AA^{-1} = I$\n",
    "</td>\n",
    "</tr>    \n",
    "<tr>\n",
    "<td></td><td>$(AB)^{-1} = B^{-1}A^{-1}$</td>\n",
    "</tr>    \n",
    "<tr>\n",
    "<td>Reversibilidad de la transposición de un producto de matrices,</td><td>$(AB)^T = B^TA^T$</td>\n",
    "</tr>    \n",
    "</table>"
   ]
  }
 ],
 "metadata": {
  "ExecuteTimeLog": [
   {
    "duration": 2410,
    "start_time": "2025-03-04T17:37:26.398Z"
   },
   {
    "duration": 2911,
    "start_time": "2025-03-04T17:37:28.811Z"
   },
   {
    "duration": 15,
    "start_time": "2025-03-04T17:37:31.724Z"
   },
   {
    "duration": 3,
    "start_time": "2025-03-04T17:37:31.744Z"
   },
   {
    "duration": 11,
    "start_time": "2025-03-04T17:37:31.749Z"
   },
   {
    "duration": 9,
    "start_time": "2025-03-04T17:37:31.762Z"
   },
   {
    "duration": 2,
    "start_time": "2025-03-04T17:37:31.774Z"
   },
   {
    "duration": 2,
    "start_time": "2025-03-04T17:37:31.778Z"
   },
   {
    "duration": 2,
    "start_time": "2025-03-04T17:37:31.782Z"
   },
   {
    "duration": 2768,
    "start_time": "2025-03-04T17:37:31.809Z"
   },
   {
    "duration": 3,
    "start_time": "2025-03-04T17:37:34.580Z"
   },
   {
    "duration": 6,
    "start_time": "2025-03-04T17:37:34.585Z"
   },
   {
    "duration": 0,
    "start_time": "2025-03-04T17:37:34.593Z"
   },
   {
    "duration": 0,
    "start_time": "2025-03-04T17:37:34.595Z"
   },
   {
    "duration": 0,
    "start_time": "2025-03-04T17:37:34.597Z"
   },
   {
    "duration": 0,
    "start_time": "2025-03-04T17:37:34.605Z"
   },
   {
    "duration": 0,
    "start_time": "2025-03-04T17:37:34.607Z"
   },
   {
    "duration": 0,
    "start_time": "2025-03-04T17:37:34.608Z"
   },
   {
    "duration": 0,
    "start_time": "2025-03-04T17:37:34.610Z"
   },
   {
    "duration": 0,
    "start_time": "2025-03-04T17:37:34.611Z"
   },
   {
    "duration": 0,
    "start_time": "2025-03-04T17:37:34.613Z"
   },
   {
    "duration": 0,
    "start_time": "2025-03-04T17:37:34.614Z"
   },
   {
    "duration": 0,
    "start_time": "2025-03-04T17:37:34.730Z"
   },
   {
    "duration": 0,
    "start_time": "2025-03-04T17:37:34.731Z"
   },
   {
    "duration": 0,
    "start_time": "2025-03-04T17:37:34.732Z"
   },
   {
    "duration": 3,
    "start_time": "2025-03-04T17:41:16.265Z"
   },
   {
    "duration": 9,
    "start_time": "2025-03-04T17:41:23.743Z"
   },
   {
    "duration": 17,
    "start_time": "2025-03-04T17:41:40.280Z"
   },
   {
    "duration": 6,
    "start_time": "2025-03-04T17:43:22.113Z"
   },
   {
    "duration": 5,
    "start_time": "2025-03-04T17:45:10.866Z"
   },
   {
    "duration": 5,
    "start_time": "2025-03-04T19:20:59.991Z"
   },
   {
    "duration": 8,
    "start_time": "2025-03-04T19:21:18.852Z"
   },
   {
    "duration": 9,
    "start_time": "2025-03-04T19:21:23.167Z"
   },
   {
    "duration": 2386,
    "start_time": "2025-03-05T16:00:56.742Z"
   },
   {
    "duration": 2765,
    "start_time": "2025-03-05T16:00:59.132Z"
   },
   {
    "duration": 15,
    "start_time": "2025-03-05T16:01:01.899Z"
   },
   {
    "duration": 3,
    "start_time": "2025-03-05T16:01:01.916Z"
   },
   {
    "duration": 11,
    "start_time": "2025-03-05T16:01:01.922Z"
   },
   {
    "duration": 8,
    "start_time": "2025-03-05T16:01:01.935Z"
   },
   {
    "duration": 4,
    "start_time": "2025-03-05T16:01:01.945Z"
   },
   {
    "duration": 8,
    "start_time": "2025-03-05T16:01:01.951Z"
   },
   {
    "duration": 38,
    "start_time": "2025-03-05T16:01:01.961Z"
   },
   {
    "duration": 5,
    "start_time": "2025-03-05T16:01:02.003Z"
   },
   {
    "duration": 5,
    "start_time": "2025-03-05T16:01:02.010Z"
   },
   {
    "duration": 2690,
    "start_time": "2025-03-05T16:01:02.017Z"
   },
   {
    "duration": 3,
    "start_time": "2025-03-05T16:01:04.709Z"
   },
   {
    "duration": 4,
    "start_time": "2025-03-05T16:01:04.714Z"
   },
   {
    "duration": 8,
    "start_time": "2025-03-05T16:01:04.720Z"
   },
   {
    "duration": 8,
    "start_time": "2025-03-05T16:01:04.730Z"
   },
   {
    "duration": 4,
    "start_time": "2025-03-05T16:01:04.740Z"
   },
   {
    "duration": 0,
    "start_time": "2025-03-05T16:01:04.746Z"
   },
   {
    "duration": 0,
    "start_time": "2025-03-05T16:01:04.747Z"
   },
   {
    "duration": 0,
    "start_time": "2025-03-05T16:01:04.749Z"
   },
   {
    "duration": 0,
    "start_time": "2025-03-05T16:01:04.750Z"
   },
   {
    "duration": 0,
    "start_time": "2025-03-05T16:01:04.752Z"
   },
   {
    "duration": 1,
    "start_time": "2025-03-05T16:01:04.753Z"
   },
   {
    "duration": 0,
    "start_time": "2025-03-05T16:01:04.755Z"
   },
   {
    "duration": 0,
    "start_time": "2025-03-05T16:01:04.756Z"
   },
   {
    "duration": 0,
    "start_time": "2025-03-05T16:01:04.758Z"
   },
   {
    "duration": 0,
    "start_time": "2025-03-05T16:01:04.759Z"
   },
   {
    "duration": 4,
    "start_time": "2025-03-05T16:58:22.493Z"
   },
   {
    "duration": 3,
    "start_time": "2025-03-05T17:10:29.407Z"
   },
   {
    "duration": 2177,
    "start_time": "2025-03-05T17:10:42.024Z"
   },
   {
    "duration": 987,
    "start_time": "2025-03-05T17:10:44.204Z"
   },
   {
    "duration": 8,
    "start_time": "2025-03-05T17:10:45.193Z"
   },
   {
    "duration": 3,
    "start_time": "2025-03-05T17:10:45.203Z"
   },
   {
    "duration": 11,
    "start_time": "2025-03-05T17:10:45.209Z"
   },
   {
    "duration": 8,
    "start_time": "2025-03-05T17:10:45.221Z"
   },
   {
    "duration": 3,
    "start_time": "2025-03-05T17:10:45.231Z"
   },
   {
    "duration": 8,
    "start_time": "2025-03-05T17:10:45.235Z"
   },
   {
    "duration": 44,
    "start_time": "2025-03-05T17:10:45.245Z"
   },
   {
    "duration": 5,
    "start_time": "2025-03-05T17:10:45.292Z"
   },
   {
    "duration": 5,
    "start_time": "2025-03-05T17:10:45.299Z"
   },
   {
    "duration": 2526,
    "start_time": "2025-03-05T17:10:45.305Z"
   },
   {
    "duration": 3,
    "start_time": "2025-03-05T17:10:47.833Z"
   },
   {
    "duration": 4,
    "start_time": "2025-03-05T17:10:47.838Z"
   },
   {
    "duration": 9,
    "start_time": "2025-03-05T17:10:47.843Z"
   },
   {
    "duration": 11,
    "start_time": "2025-03-05T17:10:47.854Z"
   },
   {
    "duration": 5,
    "start_time": "2025-03-05T17:10:47.867Z"
   },
   {
    "duration": 0,
    "start_time": "2025-03-05T17:10:47.874Z"
   },
   {
    "duration": 0,
    "start_time": "2025-03-05T17:10:47.876Z"
   },
   {
    "duration": 0,
    "start_time": "2025-03-05T17:10:47.886Z"
   },
   {
    "duration": 0,
    "start_time": "2025-03-05T17:10:47.887Z"
   },
   {
    "duration": 0,
    "start_time": "2025-03-05T17:10:47.890Z"
   },
   {
    "duration": 0,
    "start_time": "2025-03-05T17:10:47.892Z"
   },
   {
    "duration": 0,
    "start_time": "2025-03-05T17:10:47.893Z"
   },
   {
    "duration": 0,
    "start_time": "2025-03-05T17:10:47.895Z"
   },
   {
    "duration": 0,
    "start_time": "2025-03-05T17:10:47.896Z"
   },
   {
    "duration": 0,
    "start_time": "2025-03-05T17:10:47.897Z"
   },
   {
    "duration": 13,
    "start_time": "2025-03-05T17:13:48.773Z"
   },
   {
    "duration": 13,
    "start_time": "2025-03-05T17:15:45.825Z"
   },
   {
    "duration": 14,
    "start_time": "2025-03-05T17:15:57.589Z"
   },
   {
    "duration": 14,
    "start_time": "2025-03-05T17:17:09.216Z"
   },
   {
    "duration": 14,
    "start_time": "2025-03-05T17:17:33.928Z"
   },
   {
    "duration": 14,
    "start_time": "2025-03-05T17:17:41.856Z"
   },
   {
    "duration": 15,
    "start_time": "2025-03-05T17:17:46.319Z"
   },
   {
    "duration": 14,
    "start_time": "2025-03-05T17:17:57.623Z"
   },
   {
    "duration": 14,
    "start_time": "2025-03-05T17:18:05.533Z"
   },
   {
    "duration": 22,
    "start_time": "2025-03-05T17:19:10.991Z"
   },
   {
    "duration": 24,
    "start_time": "2025-03-05T17:19:30.136Z"
   },
   {
    "duration": 15,
    "start_time": "2025-03-05T17:22:23.278Z"
   },
   {
    "duration": 21,
    "start_time": "2025-03-05T17:23:20.475Z"
   },
   {
    "duration": 9,
    "start_time": "2025-03-05T18:13:55.716Z"
   },
   {
    "duration": 8,
    "start_time": "2025-03-05T18:14:05.012Z"
   },
   {
    "duration": 11,
    "start_time": "2025-03-05T18:15:57.460Z"
   },
   {
    "duration": 3,
    "start_time": "2025-03-05T18:16:04.430Z"
   },
   {
    "duration": 599,
    "start_time": "2025-03-05T18:19:19.374Z"
   },
   {
    "duration": 8,
    "start_time": "2025-03-05T18:19:48.873Z"
   },
   {
    "duration": 4,
    "start_time": "2025-03-05T18:19:56.783Z"
   },
   {
    "duration": 2,
    "start_time": "2025-03-05T18:21:07.070Z"
   },
   {
    "duration": 2,
    "start_time": "2025-03-05T18:21:16.828Z"
   },
   {
    "duration": 4,
    "start_time": "2025-03-05T18:21:21.292Z"
   },
   {
    "duration": 25,
    "start_time": "2025-03-05T18:33:34.475Z"
   },
   {
    "duration": 3,
    "start_time": "2025-03-05T18:34:32.482Z"
   },
   {
    "duration": 20,
    "start_time": "2025-03-05T18:34:39.697Z"
   },
   {
    "duration": 15,
    "start_time": "2025-03-05T18:37:55.722Z"
   },
   {
    "duration": 295,
    "start_time": "2025-03-05T18:40:22.058Z"
   },
   {
    "duration": 13,
    "start_time": "2025-03-05T18:41:28.011Z"
   },
   {
    "duration": 20,
    "start_time": "2025-03-05T18:42:10.316Z"
   },
   {
    "duration": 2155,
    "start_time": "2025-03-05T18:44:58.321Z"
   },
   {
    "duration": 1004,
    "start_time": "2025-03-05T18:45:00.478Z"
   },
   {
    "duration": 9,
    "start_time": "2025-03-05T18:45:01.485Z"
   },
   {
    "duration": 3,
    "start_time": "2025-03-05T18:45:01.496Z"
   },
   {
    "duration": 11,
    "start_time": "2025-03-05T18:45:01.500Z"
   },
   {
    "duration": 8,
    "start_time": "2025-03-05T18:45:01.513Z"
   },
   {
    "duration": 3,
    "start_time": "2025-03-05T18:45:01.523Z"
   },
   {
    "duration": 8,
    "start_time": "2025-03-05T18:45:01.527Z"
   },
   {
    "duration": 17,
    "start_time": "2025-03-05T18:45:01.536Z"
   },
   {
    "duration": 6,
    "start_time": "2025-03-05T18:45:01.588Z"
   },
   {
    "duration": 5,
    "start_time": "2025-03-05T18:45:01.595Z"
   },
   {
    "duration": 2613,
    "start_time": "2025-03-05T18:45:01.602Z"
   },
   {
    "duration": 2,
    "start_time": "2025-03-05T18:45:04.217Z"
   },
   {
    "duration": 5,
    "start_time": "2025-03-05T18:45:04.221Z"
   },
   {
    "duration": 9,
    "start_time": "2025-03-05T18:45:04.227Z"
   },
   {
    "duration": 8,
    "start_time": "2025-03-05T18:45:04.237Z"
   },
   {
    "duration": 13,
    "start_time": "2025-03-05T18:45:04.246Z"
   },
   {
    "duration": 34,
    "start_time": "2025-03-05T18:45:04.260Z"
   },
   {
    "duration": 12,
    "start_time": "2025-03-05T18:45:04.295Z"
   },
   {
    "duration": 21,
    "start_time": "2025-03-05T18:45:04.309Z"
   },
   {
    "duration": 8,
    "start_time": "2025-03-05T18:45:04.331Z"
   },
   {
    "duration": 5,
    "start_time": "2025-03-05T18:45:04.340Z"
   },
   {
    "duration": 3,
    "start_time": "2025-03-05T18:45:04.348Z"
   },
   {
    "duration": 3,
    "start_time": "2025-03-05T18:45:04.386Z"
   },
   {
    "duration": 23,
    "start_time": "2025-03-05T18:45:04.390Z"
   },
   {
    "duration": 238,
    "start_time": "2025-03-05T18:45:04.417Z"
   },
   {
    "duration": 0,
    "start_time": "2025-03-05T18:45:04.658Z"
   },
   {
    "duration": 0,
    "start_time": "2025-03-05T18:45:04.660Z"
   },
   {
    "duration": 0,
    "start_time": "2025-03-05T18:45:04.662Z"
   },
   {
    "duration": 0,
    "start_time": "2025-03-05T18:45:04.664Z"
   },
   {
    "duration": 0,
    "start_time": "2025-03-05T18:45:04.665Z"
   },
   {
    "duration": 0,
    "start_time": "2025-03-05T18:45:04.667Z"
   },
   {
    "duration": 21,
    "start_time": "2025-03-05T18:49:05.848Z"
   },
   {
    "duration": 292,
    "start_time": "2025-03-05T18:49:40.242Z"
   },
   {
    "duration": 2156,
    "start_time": "2025-03-05T18:51:00.868Z"
   },
   {
    "duration": 1048,
    "start_time": "2025-03-05T18:51:03.027Z"
   },
   {
    "duration": 13,
    "start_time": "2025-03-05T18:51:04.076Z"
   },
   {
    "duration": 2,
    "start_time": "2025-03-05T18:51:04.092Z"
   },
   {
    "duration": 11,
    "start_time": "2025-03-05T18:51:04.096Z"
   },
   {
    "duration": 9,
    "start_time": "2025-03-05T18:51:04.109Z"
   },
   {
    "duration": 3,
    "start_time": "2025-03-05T18:51:04.119Z"
   },
   {
    "duration": 9,
    "start_time": "2025-03-05T18:51:04.123Z"
   },
   {
    "duration": 15,
    "start_time": "2025-03-05T18:51:04.134Z"
   },
   {
    "duration": 36,
    "start_time": "2025-03-05T18:51:04.153Z"
   },
   {
    "duration": 5,
    "start_time": "2025-03-05T18:51:04.190Z"
   },
   {
    "duration": 2614,
    "start_time": "2025-03-05T18:51:04.197Z"
   },
   {
    "duration": 2,
    "start_time": "2025-03-05T18:51:06.813Z"
   },
   {
    "duration": 4,
    "start_time": "2025-03-05T18:51:06.817Z"
   },
   {
    "duration": 9,
    "start_time": "2025-03-05T18:51:06.823Z"
   },
   {
    "duration": 8,
    "start_time": "2025-03-05T18:51:06.833Z"
   },
   {
    "duration": 13,
    "start_time": "2025-03-05T18:51:06.843Z"
   },
   {
    "duration": 37,
    "start_time": "2025-03-05T18:51:06.858Z"
   },
   {
    "duration": 13,
    "start_time": "2025-03-05T18:51:06.896Z"
   },
   {
    "duration": 25,
    "start_time": "2025-03-05T18:51:06.912Z"
   },
   {
    "duration": 7,
    "start_time": "2025-03-05T18:51:06.939Z"
   },
   {
    "duration": 4,
    "start_time": "2025-03-05T18:51:06.948Z"
   },
   {
    "duration": 33,
    "start_time": "2025-03-05T18:51:06.953Z"
   },
   {
    "duration": 3,
    "start_time": "2025-03-05T18:51:06.988Z"
   },
   {
    "duration": 253,
    "start_time": "2025-03-05T18:51:06.993Z"
   },
   {
    "duration": 0,
    "start_time": "2025-03-05T18:51:07.248Z"
   },
   {
    "duration": 0,
    "start_time": "2025-03-05T18:51:07.250Z"
   },
   {
    "duration": 0,
    "start_time": "2025-03-05T18:51:07.251Z"
   },
   {
    "duration": 0,
    "start_time": "2025-03-05T18:51:07.253Z"
   },
   {
    "duration": 0,
    "start_time": "2025-03-05T18:51:07.254Z"
   },
   {
    "duration": 0,
    "start_time": "2025-03-05T18:51:07.256Z"
   },
   {
    "duration": 0,
    "start_time": "2025-03-05T18:51:07.259Z"
   },
   {
    "duration": 3,
    "start_time": "2025-03-05T18:56:44.567Z"
   },
   {
    "duration": 3,
    "start_time": "2025-03-05T18:56:47.412Z"
   },
   {
    "duration": 20,
    "start_time": "2025-03-05T18:56:50.859Z"
   },
   {
    "duration": 279,
    "start_time": "2025-03-05T18:56:58.555Z"
   },
   {
    "duration": 2182,
    "start_time": "2025-03-05T18:57:13.802Z"
   },
   {
    "duration": 1032,
    "start_time": "2025-03-05T18:57:15.987Z"
   },
   {
    "duration": 10,
    "start_time": "2025-03-05T18:57:17.021Z"
   },
   {
    "duration": 3,
    "start_time": "2025-03-05T18:57:17.033Z"
   },
   {
    "duration": 11,
    "start_time": "2025-03-05T18:57:17.038Z"
   },
   {
    "duration": 11,
    "start_time": "2025-03-05T18:57:17.051Z"
   },
   {
    "duration": 25,
    "start_time": "2025-03-05T18:57:17.064Z"
   },
   {
    "duration": 9,
    "start_time": "2025-03-05T18:57:17.092Z"
   },
   {
    "duration": 17,
    "start_time": "2025-03-05T18:57:17.103Z"
   },
   {
    "duration": 6,
    "start_time": "2025-03-05T18:57:17.123Z"
   },
   {
    "duration": 7,
    "start_time": "2025-03-05T18:57:17.130Z"
   },
   {
    "duration": 2681,
    "start_time": "2025-03-05T18:57:17.138Z"
   },
   {
    "duration": 3,
    "start_time": "2025-03-05T18:57:19.821Z"
   },
   {
    "duration": 5,
    "start_time": "2025-03-05T18:57:19.825Z"
   },
   {
    "duration": 9,
    "start_time": "2025-03-05T18:57:19.831Z"
   },
   {
    "duration": 8,
    "start_time": "2025-03-05T18:57:19.841Z"
   },
   {
    "duration": 14,
    "start_time": "2025-03-05T18:57:19.851Z"
   },
   {
    "duration": 40,
    "start_time": "2025-03-05T18:57:19.866Z"
   },
   {
    "duration": 14,
    "start_time": "2025-03-05T18:57:19.907Z"
   },
   {
    "duration": 23,
    "start_time": "2025-03-05T18:57:19.922Z"
   },
   {
    "duration": 8,
    "start_time": "2025-03-05T18:57:19.947Z"
   },
   {
    "duration": 30,
    "start_time": "2025-03-05T18:57:19.957Z"
   },
   {
    "duration": 4,
    "start_time": "2025-03-05T18:57:19.989Z"
   },
   {
    "duration": 4,
    "start_time": "2025-03-05T18:57:19.994Z"
   },
   {
    "duration": 254,
    "start_time": "2025-03-05T18:57:20.001Z"
   },
   {
    "duration": 0,
    "start_time": "2025-03-05T18:57:20.257Z"
   },
   {
    "duration": 0,
    "start_time": "2025-03-05T18:57:20.259Z"
   },
   {
    "duration": 0,
    "start_time": "2025-03-05T18:57:20.260Z"
   },
   {
    "duration": 0,
    "start_time": "2025-03-05T18:57:20.261Z"
   },
   {
    "duration": 0,
    "start_time": "2025-03-05T18:57:20.262Z"
   },
   {
    "duration": 0,
    "start_time": "2025-03-05T18:57:20.263Z"
   },
   {
    "duration": 0,
    "start_time": "2025-03-05T18:57:20.264Z"
   },
   {
    "duration": 22,
    "start_time": "2025-03-05T18:58:09.892Z"
   },
   {
    "duration": 293,
    "start_time": "2025-03-05T18:58:49.538Z"
   },
   {
    "duration": 323,
    "start_time": "2025-03-05T19:00:22.519Z"
   },
   {
    "duration": 322,
    "start_time": "2025-03-05T19:00:58.536Z"
   },
   {
    "duration": 15,
    "start_time": "2025-03-05T19:01:02.471Z"
   },
   {
    "duration": 5,
    "start_time": "2025-03-05T19:12:35.453Z"
   },
   {
    "duration": 322,
    "start_time": "2025-03-05T19:12:41.352Z"
   },
   {
    "duration": 5,
    "start_time": "2025-03-05T19:12:57.541Z"
   },
   {
    "duration": 5,
    "start_time": "2025-03-05T19:13:14.660Z"
   },
   {
    "duration": 292,
    "start_time": "2025-03-05T19:13:18.458Z"
   },
   {
    "duration": 286,
    "start_time": "2025-03-05T19:13:27.135Z"
   },
   {
    "duration": 44,
    "start_time": "2025-03-05T19:14:37.691Z"
   },
   {
    "duration": 285,
    "start_time": "2025-03-05T19:15:01.032Z"
   },
   {
    "duration": 14,
    "start_time": "2025-03-05T19:16:03.884Z"
   },
   {
    "duration": 13,
    "start_time": "2025-03-05T19:22:13.705Z"
   },
   {
    "duration": 526,
    "start_time": "2025-03-05T19:26:07.877Z"
   },
   {
    "duration": 19,
    "start_time": "2025-03-05T19:26:32.725Z"
   },
   {
    "duration": 18,
    "start_time": "2025-03-05T19:28:49.865Z"
   },
   {
    "duration": 2464,
    "start_time": "2025-03-05T21:17:04.222Z"
   },
   {
    "duration": 2908,
    "start_time": "2025-03-05T21:17:06.689Z"
   },
   {
    "duration": 14,
    "start_time": "2025-03-05T21:17:09.599Z"
   },
   {
    "duration": 3,
    "start_time": "2025-03-05T21:17:09.615Z"
   },
   {
    "duration": 11,
    "start_time": "2025-03-05T21:17:09.620Z"
   },
   {
    "duration": 9,
    "start_time": "2025-03-05T21:17:09.633Z"
   },
   {
    "duration": 2,
    "start_time": "2025-03-05T21:17:09.644Z"
   },
   {
    "duration": 28,
    "start_time": "2025-03-05T21:17:09.648Z"
   },
   {
    "duration": 15,
    "start_time": "2025-03-05T21:17:09.678Z"
   },
   {
    "duration": 5,
    "start_time": "2025-03-05T21:17:09.695Z"
   },
   {
    "duration": 4,
    "start_time": "2025-03-05T21:17:09.701Z"
   },
   {
    "duration": 2579,
    "start_time": "2025-03-05T21:17:09.707Z"
   },
   {
    "duration": 5,
    "start_time": "2025-03-05T21:17:12.288Z"
   },
   {
    "duration": 4,
    "start_time": "2025-03-05T21:17:12.297Z"
   },
   {
    "duration": 8,
    "start_time": "2025-03-05T21:17:12.303Z"
   },
   {
    "duration": 9,
    "start_time": "2025-03-05T21:17:12.312Z"
   },
   {
    "duration": 13,
    "start_time": "2025-03-05T21:17:12.322Z"
   },
   {
    "duration": 38,
    "start_time": "2025-03-05T21:17:12.336Z"
   },
   {
    "duration": 13,
    "start_time": "2025-03-05T21:17:12.376Z"
   },
   {
    "duration": 21,
    "start_time": "2025-03-05T21:17:12.390Z"
   },
   {
    "duration": 8,
    "start_time": "2025-03-05T21:17:12.413Z"
   },
   {
    "duration": 4,
    "start_time": "2025-03-05T21:17:12.423Z"
   },
   {
    "duration": 4,
    "start_time": "2025-03-05T21:17:12.428Z"
   },
   {
    "duration": 37,
    "start_time": "2025-03-05T21:17:12.433Z"
   },
   {
    "duration": 19,
    "start_time": "2025-03-05T21:17:12.472Z"
   },
   {
    "duration": 306,
    "start_time": "2025-03-05T21:17:12.493Z"
   },
   {
    "duration": 319,
    "start_time": "2025-03-05T21:17:12.801Z"
   },
   {
    "duration": 0,
    "start_time": "2025-03-05T21:17:13.122Z"
   },
   {
    "duration": 0,
    "start_time": "2025-03-05T21:17:13.123Z"
   },
   {
    "duration": 0,
    "start_time": "2025-03-05T21:17:13.124Z"
   },
   {
    "duration": 0,
    "start_time": "2025-03-05T21:17:13.126Z"
   },
   {
    "duration": 0,
    "start_time": "2025-03-05T21:17:13.127Z"
   },
   {
    "duration": 0,
    "start_time": "2025-03-05T21:17:13.129Z"
   },
   {
    "duration": 0,
    "start_time": "2025-03-05T21:17:13.130Z"
   },
   {
    "duration": 0,
    "start_time": "2025-03-05T21:17:13.132Z"
   },
   {
    "duration": 3,
    "start_time": "2025-03-05T21:20:26.555Z"
   },
   {
    "duration": 3,
    "start_time": "2025-03-05T21:20:30.903Z"
   },
   {
    "duration": 10,
    "start_time": "2025-03-05T21:20:34.182Z"
   },
   {
    "duration": 275,
    "start_time": "2025-03-05T21:20:43.822Z"
   },
   {
    "duration": 3,
    "start_time": "2025-03-05T21:20:53.603Z"
   },
   {
    "duration": 283,
    "start_time": "2025-03-05T21:21:54.075Z"
   },
   {
    "duration": 284,
    "start_time": "2025-03-05T21:22:26.790Z"
   },
   {
    "duration": 275,
    "start_time": "2025-03-05T21:22:33.871Z"
   },
   {
    "duration": 271,
    "start_time": "2025-03-05T21:25:49.282Z"
   },
   {
    "duration": 283,
    "start_time": "2025-03-05T21:26:01.268Z"
   },
   {
    "duration": 448,
    "start_time": "2025-03-05T21:27:49.274Z"
   },
   {
    "duration": 3,
    "start_time": "2025-03-05T21:29:38.364Z"
   },
   {
    "duration": 8,
    "start_time": "2025-03-05T21:36:14.163Z"
   },
   {
    "duration": 457,
    "start_time": "2025-03-05T21:36:25.351Z"
   },
   {
    "duration": 426,
    "start_time": "2025-03-05T21:45:30.946Z"
   },
   {
    "duration": 2165,
    "start_time": "2025-03-05T21:47:43.044Z"
   },
   {
    "duration": 958,
    "start_time": "2025-03-05T21:47:45.212Z"
   },
   {
    "duration": 8,
    "start_time": "2025-03-05T21:47:46.172Z"
   },
   {
    "duration": 3,
    "start_time": "2025-03-05T21:47:46.183Z"
   },
   {
    "duration": 11,
    "start_time": "2025-03-05T21:47:46.188Z"
   },
   {
    "duration": 9,
    "start_time": "2025-03-05T21:47:46.200Z"
   },
   {
    "duration": 3,
    "start_time": "2025-03-05T21:47:46.211Z"
   },
   {
    "duration": 14,
    "start_time": "2025-03-05T21:47:46.216Z"
   },
   {
    "duration": 45,
    "start_time": "2025-03-05T21:47:46.232Z"
   },
   {
    "duration": 5,
    "start_time": "2025-03-05T21:47:46.281Z"
   },
   {
    "duration": 4,
    "start_time": "2025-03-05T21:47:46.288Z"
   },
   {
    "duration": 2605,
    "start_time": "2025-03-05T21:47:46.294Z"
   },
   {
    "duration": 2,
    "start_time": "2025-03-05T21:47:48.901Z"
   },
   {
    "duration": 4,
    "start_time": "2025-03-05T21:47:48.905Z"
   },
   {
    "duration": 8,
    "start_time": "2025-03-05T21:47:48.911Z"
   },
   {
    "duration": 7,
    "start_time": "2025-03-05T21:47:48.921Z"
   },
   {
    "duration": 13,
    "start_time": "2025-03-05T21:47:48.930Z"
   },
   {
    "duration": 36,
    "start_time": "2025-03-05T21:47:48.945Z"
   },
   {
    "duration": 13,
    "start_time": "2025-03-05T21:47:48.983Z"
   },
   {
    "duration": 20,
    "start_time": "2025-03-05T21:47:48.997Z"
   },
   {
    "duration": 7,
    "start_time": "2025-03-05T21:47:49.020Z"
   },
   {
    "duration": 4,
    "start_time": "2025-03-05T21:47:49.028Z"
   },
   {
    "duration": 35,
    "start_time": "2025-03-05T21:47:49.034Z"
   },
   {
    "duration": 3,
    "start_time": "2025-03-05T21:47:49.070Z"
   },
   {
    "duration": 11,
    "start_time": "2025-03-05T21:47:49.074Z"
   },
   {
    "duration": 292,
    "start_time": "2025-03-05T21:47:49.086Z"
   },
   {
    "duration": 8,
    "start_time": "2025-03-05T21:47:49.380Z"
   },
   {
    "duration": 453,
    "start_time": "2025-03-05T21:47:49.392Z"
   },
   {
    "duration": 5,
    "start_time": "2025-03-05T21:47:49.847Z"
   },
   {
    "duration": 0,
    "start_time": "2025-03-05T21:47:49.855Z"
   },
   {
    "duration": 0,
    "start_time": "2025-03-05T21:47:49.857Z"
   },
   {
    "duration": 0,
    "start_time": "2025-03-05T21:47:49.858Z"
   },
   {
    "duration": 0,
    "start_time": "2025-03-05T21:47:49.858Z"
   },
   {
    "duration": 0,
    "start_time": "2025-03-05T21:47:49.859Z"
   },
   {
    "duration": 2152,
    "start_time": "2025-03-05T21:48:32.083Z"
   },
   {
    "duration": 969,
    "start_time": "2025-03-05T21:48:34.238Z"
   },
   {
    "duration": 8,
    "start_time": "2025-03-05T21:48:35.209Z"
   },
   {
    "duration": 3,
    "start_time": "2025-03-05T21:48:35.219Z"
   },
   {
    "duration": 11,
    "start_time": "2025-03-05T21:48:35.223Z"
   },
   {
    "duration": 11,
    "start_time": "2025-03-05T21:48:35.235Z"
   },
   {
    "duration": 21,
    "start_time": "2025-03-05T21:48:35.249Z"
   },
   {
    "duration": 7,
    "start_time": "2025-03-05T21:48:35.272Z"
   },
   {
    "duration": 16,
    "start_time": "2025-03-05T21:48:35.281Z"
   },
   {
    "duration": 5,
    "start_time": "2025-03-05T21:48:35.301Z"
   },
   {
    "duration": 4,
    "start_time": "2025-03-05T21:48:35.308Z"
   },
   {
    "duration": 2645,
    "start_time": "2025-03-05T21:48:35.313Z"
   },
   {
    "duration": 3,
    "start_time": "2025-03-05T21:48:37.960Z"
   },
   {
    "duration": 5,
    "start_time": "2025-03-05T21:48:37.965Z"
   },
   {
    "duration": 9,
    "start_time": "2025-03-05T21:48:37.971Z"
   },
   {
    "duration": 8,
    "start_time": "2025-03-05T21:48:37.981Z"
   },
   {
    "duration": 13,
    "start_time": "2025-03-05T21:48:37.990Z"
   },
   {
    "duration": 20,
    "start_time": "2025-03-05T21:48:38.004Z"
   },
   {
    "duration": 13,
    "start_time": "2025-03-05T21:48:38.026Z"
   },
   {
    "duration": 47,
    "start_time": "2025-03-05T21:48:38.041Z"
   },
   {
    "duration": 8,
    "start_time": "2025-03-05T21:48:38.089Z"
   },
   {
    "duration": 4,
    "start_time": "2025-03-05T21:48:38.099Z"
   },
   {
    "duration": 3,
    "start_time": "2025-03-05T21:48:38.105Z"
   },
   {
    "duration": 4,
    "start_time": "2025-03-05T21:48:38.109Z"
   },
   {
    "duration": 11,
    "start_time": "2025-03-05T21:48:38.114Z"
   },
   {
    "duration": 334,
    "start_time": "2025-03-05T21:48:38.126Z"
   },
   {
    "duration": 12,
    "start_time": "2025-03-05T21:48:38.462Z"
   },
   {
    "duration": 443,
    "start_time": "2025-03-05T21:48:38.477Z"
   },
   {
    "duration": 4,
    "start_time": "2025-03-05T21:48:38.923Z"
   },
   {
    "duration": 0,
    "start_time": "2025-03-05T21:48:38.928Z"
   },
   {
    "duration": 0,
    "start_time": "2025-03-05T21:48:38.929Z"
   },
   {
    "duration": 0,
    "start_time": "2025-03-05T21:48:38.930Z"
   },
   {
    "duration": 0,
    "start_time": "2025-03-05T21:48:38.931Z"
   },
   {
    "duration": 0,
    "start_time": "2025-03-05T21:48:38.932Z"
   },
   {
    "duration": 2638,
    "start_time": "2025-03-06T15:46:21.693Z"
   },
   {
    "duration": 2903,
    "start_time": "2025-03-06T15:46:24.334Z"
   },
   {
    "duration": 92,
    "start_time": "2025-03-06T15:46:27.239Z"
   },
   {
    "duration": 3,
    "start_time": "2025-03-06T15:46:27.334Z"
   },
   {
    "duration": 11,
    "start_time": "2025-03-06T15:46:27.339Z"
   },
   {
    "duration": 10,
    "start_time": "2025-03-06T15:46:27.351Z"
   },
   {
    "duration": 3,
    "start_time": "2025-03-06T15:46:27.364Z"
   },
   {
    "duration": 9,
    "start_time": "2025-03-06T15:46:27.369Z"
   },
   {
    "duration": 44,
    "start_time": "2025-03-06T15:46:27.381Z"
   },
   {
    "duration": 5,
    "start_time": "2025-03-06T15:46:27.429Z"
   },
   {
    "duration": 6,
    "start_time": "2025-03-06T15:46:27.436Z"
   },
   {
    "duration": 2706,
    "start_time": "2025-03-06T15:46:27.444Z"
   },
   {
    "duration": 3,
    "start_time": "2025-03-06T15:46:30.152Z"
   },
   {
    "duration": 5,
    "start_time": "2025-03-06T15:46:30.156Z"
   },
   {
    "duration": 10,
    "start_time": "2025-03-06T15:46:30.162Z"
   },
   {
    "duration": 8,
    "start_time": "2025-03-06T15:46:30.174Z"
   },
   {
    "duration": 13,
    "start_time": "2025-03-06T15:46:30.183Z"
   },
   {
    "duration": 39,
    "start_time": "2025-03-06T15:46:30.198Z"
   },
   {
    "duration": 13,
    "start_time": "2025-03-06T15:46:30.239Z"
   },
   {
    "duration": 20,
    "start_time": "2025-03-06T15:46:30.254Z"
   },
   {
    "duration": 8,
    "start_time": "2025-03-06T15:46:30.276Z"
   },
   {
    "duration": 22,
    "start_time": "2025-03-06T15:46:30.286Z"
   },
   {
    "duration": 5,
    "start_time": "2025-03-06T15:46:30.325Z"
   },
   {
    "duration": 3,
    "start_time": "2025-03-06T15:46:30.333Z"
   },
   {
    "duration": 11,
    "start_time": "2025-03-06T15:46:30.341Z"
   },
   {
    "duration": 324,
    "start_time": "2025-03-06T15:46:30.353Z"
   },
   {
    "duration": 8,
    "start_time": "2025-03-06T15:46:30.680Z"
   },
   {
    "duration": 518,
    "start_time": "2025-03-06T15:46:30.692Z"
   },
   {
    "duration": 14,
    "start_time": "2025-03-06T15:46:31.211Z"
   },
   {
    "duration": 0,
    "start_time": "2025-03-06T15:46:31.227Z"
   },
   {
    "duration": 1,
    "start_time": "2025-03-06T15:46:31.227Z"
   },
   {
    "duration": 0,
    "start_time": "2025-03-06T15:46:31.236Z"
   },
   {
    "duration": 0,
    "start_time": "2025-03-06T15:46:31.238Z"
   },
   {
    "duration": 0,
    "start_time": "2025-03-06T15:46:31.239Z"
   },
   {
    "duration": 4,
    "start_time": "2025-03-06T15:55:32.318Z"
   },
   {
    "duration": 4,
    "start_time": "2025-03-06T15:56:02.881Z"
   },
   {
    "duration": 3,
    "start_time": "2025-03-06T15:56:07.075Z"
   },
   {
    "duration": 10,
    "start_time": "2025-03-06T15:56:39.877Z"
   },
   {
    "duration": 11,
    "start_time": "2025-03-06T15:57:15.734Z"
   },
   {
    "duration": 4,
    "start_time": "2025-03-06T15:58:05.252Z"
   },
   {
    "duration": 3,
    "start_time": "2025-03-06T15:58:08.278Z"
   },
   {
    "duration": 3,
    "start_time": "2025-03-06T15:58:18.754Z"
   },
   {
    "duration": 2,
    "start_time": "2025-03-06T15:59:05.345Z"
   },
   {
    "duration": 3,
    "start_time": "2025-03-06T15:59:31.148Z"
   },
   {
    "duration": 234,
    "start_time": "2025-03-06T15:59:46.419Z"
   },
   {
    "duration": 24,
    "start_time": "2025-03-06T16:00:01.274Z"
   },
   {
    "duration": 2,
    "start_time": "2025-03-06T16:00:14.114Z"
   },
   {
    "duration": 8,
    "start_time": "2025-03-06T16:00:16.205Z"
   },
   {
    "duration": 15,
    "start_time": "2025-03-06T16:00:46.156Z"
   },
   {
    "duration": 3,
    "start_time": "2025-03-06T16:00:48.698Z"
   },
   {
    "duration": 9,
    "start_time": "2025-03-06T16:00:50.642Z"
   },
   {
    "duration": 8,
    "start_time": "2025-03-06T16:01:23.329Z"
   },
   {
    "duration": 9,
    "start_time": "2025-03-06T16:02:01.778Z"
   },
   {
    "duration": 6,
    "start_time": "2025-03-06T16:02:14.171Z"
   },
   {
    "duration": 6,
    "start_time": "2025-03-06T16:02:59.179Z"
   },
   {
    "duration": 8,
    "start_time": "2025-03-06T16:03:18.407Z"
   },
   {
    "duration": 3,
    "start_time": "2025-03-06T16:04:21.832Z"
   },
   {
    "duration": 3,
    "start_time": "2025-03-06T16:04:33.412Z"
   },
   {
    "duration": 27,
    "start_time": "2025-03-06T16:04:56.987Z"
   },
   {
    "duration": 7,
    "start_time": "2025-03-06T17:23:41.568Z"
   },
   {
    "duration": 8,
    "start_time": "2025-03-06T17:26:31.399Z"
   },
   {
    "duration": 7,
    "start_time": "2025-03-06T17:26:38.378Z"
   },
   {
    "duration": 6,
    "start_time": "2025-03-06T17:26:41.391Z"
   },
   {
    "duration": 349,
    "start_time": "2025-03-06T17:26:48.230Z"
   },
   {
    "duration": 7,
    "start_time": "2025-03-06T17:27:10.807Z"
   },
   {
    "duration": 5,
    "start_time": "2025-03-06T17:27:13.088Z"
   },
   {
    "duration": 3,
    "start_time": "2025-03-06T17:27:16.269Z"
   },
   {
    "duration": 3,
    "start_time": "2025-03-06T17:27:20.426Z"
   },
   {
    "duration": 10,
    "start_time": "2025-03-06T17:27:25.238Z"
   },
   {
    "duration": 284,
    "start_time": "2025-03-06T17:27:33.502Z"
   },
   {
    "duration": 8,
    "start_time": "2025-03-06T17:27:40.477Z"
   },
   {
    "duration": 6,
    "start_time": "2025-03-06T17:27:43.951Z"
   },
   {
    "duration": 376,
    "start_time": "2025-03-06T17:27:47.238Z"
   },
   {
    "duration": 2149,
    "start_time": "2025-03-06T17:40:57.044Z"
   },
   {
    "duration": 1042,
    "start_time": "2025-03-06T17:40:59.196Z"
   },
   {
    "duration": 9,
    "start_time": "2025-03-06T17:41:00.240Z"
   },
   {
    "duration": 4,
    "start_time": "2025-03-06T17:41:00.251Z"
   },
   {
    "duration": 11,
    "start_time": "2025-03-06T17:41:00.259Z"
   },
   {
    "duration": 10,
    "start_time": "2025-03-06T17:41:00.272Z"
   },
   {
    "duration": 4,
    "start_time": "2025-03-06T17:41:00.306Z"
   },
   {
    "duration": 9,
    "start_time": "2025-03-06T17:41:00.312Z"
   },
   {
    "duration": 18,
    "start_time": "2025-03-06T17:41:00.323Z"
   },
   {
    "duration": 5,
    "start_time": "2025-03-06T17:41:00.343Z"
   },
   {
    "duration": 4,
    "start_time": "2025-03-06T17:41:00.350Z"
   },
   {
    "duration": 2707,
    "start_time": "2025-03-06T17:41:00.356Z"
   },
   {
    "duration": 3,
    "start_time": "2025-03-06T17:41:03.064Z"
   },
   {
    "duration": 4,
    "start_time": "2025-03-06T17:41:03.071Z"
   },
   {
    "duration": 8,
    "start_time": "2025-03-06T17:41:03.077Z"
   },
   {
    "duration": 24,
    "start_time": "2025-03-06T17:41:03.087Z"
   },
   {
    "duration": 13,
    "start_time": "2025-03-06T17:41:03.113Z"
   },
   {
    "duration": 22,
    "start_time": "2025-03-06T17:41:03.128Z"
   },
   {
    "duration": 13,
    "start_time": "2025-03-06T17:41:03.152Z"
   },
   {
    "duration": 43,
    "start_time": "2025-03-06T17:41:03.166Z"
   },
   {
    "duration": 9,
    "start_time": "2025-03-06T17:41:03.211Z"
   },
   {
    "duration": 6,
    "start_time": "2025-03-06T17:41:03.222Z"
   },
   {
    "duration": 5,
    "start_time": "2025-03-06T17:41:03.231Z"
   },
   {
    "duration": 3,
    "start_time": "2025-03-06T17:41:03.238Z"
   },
   {
    "duration": 11,
    "start_time": "2025-03-06T17:41:03.243Z"
   },
   {
    "duration": 334,
    "start_time": "2025-03-06T17:41:03.255Z"
   },
   {
    "duration": 18,
    "start_time": "2025-03-06T17:41:03.591Z"
   },
   {
    "duration": 6,
    "start_time": "2025-03-06T17:41:03.610Z"
   },
   {
    "duration": 379,
    "start_time": "2025-03-06T17:41:03.618Z"
   },
   {
    "duration": 9,
    "start_time": "2025-03-06T17:41:03.999Z"
   },
   {
    "duration": 4,
    "start_time": "2025-03-06T17:41:04.010Z"
   },
   {
    "duration": 9,
    "start_time": "2025-03-06T17:41:04.016Z"
   },
   {
    "duration": 8,
    "start_time": "2025-03-06T17:41:04.027Z"
   },
   {
    "duration": 4,
    "start_time": "2025-03-06T17:41:04.037Z"
   },
   {
    "duration": 65,
    "start_time": "2025-03-06T17:41:04.042Z"
   },
   {
    "duration": 3,
    "start_time": "2025-03-06T17:41:04.110Z"
   },
   {
    "duration": 4,
    "start_time": "2025-03-06T17:41:04.114Z"
   },
   {
    "duration": 4,
    "start_time": "2025-03-06T17:41:04.119Z"
   },
   {
    "duration": 84,
    "start_time": "2025-03-06T17:41:04.125Z"
   },
   {
    "duration": 8,
    "start_time": "2025-03-06T17:41:04.211Z"
   },
   {
    "duration": 3,
    "start_time": "2025-03-06T17:41:04.225Z"
   },
   {
    "duration": 78,
    "start_time": "2025-03-06T17:41:04.230Z"
   },
   {
    "duration": 4,
    "start_time": "2025-03-06T17:41:04.310Z"
   },
   {
    "duration": 6,
    "start_time": "2025-03-06T17:41:04.315Z"
   },
   {
    "duration": 3,
    "start_time": "2025-03-06T17:42:21.801Z"
   },
   {
    "duration": 9,
    "start_time": "2025-03-06T17:43:18.119Z"
   },
   {
    "duration": 3,
    "start_time": "2025-03-06T17:49:33.137Z"
   },
   {
    "duration": 3,
    "start_time": "2025-03-06T17:49:37.591Z"
   },
   {
    "duration": 3,
    "start_time": "2025-03-06T17:49:39.735Z"
   },
   {
    "duration": 20,
    "start_time": "2025-03-06T17:49:43.495Z"
   },
   {
    "duration": 284,
    "start_time": "2025-03-06T17:49:54.575Z"
   },
   {
    "duration": 3,
    "start_time": "2025-03-06T17:50:22.612Z"
   },
   {
    "duration": 3,
    "start_time": "2025-03-06T17:50:25.078Z"
   },
   {
    "duration": 19,
    "start_time": "2025-03-06T17:50:27.195Z"
   },
   {
    "duration": 51,
    "start_time": "2025-03-06T17:50:34.413Z"
   },
   {
    "duration": 3,
    "start_time": "2025-03-06T17:50:57.847Z"
   },
   {
    "duration": 3,
    "start_time": "2025-03-06T17:51:00.234Z"
   },
   {
    "duration": 20,
    "start_time": "2025-03-06T17:51:02.359Z"
   },
   {
    "duration": 411,
    "start_time": "2025-03-06T17:51:06.474Z"
   },
   {
    "duration": 7,
    "start_time": "2025-03-06T17:51:16.183Z"
   },
   {
    "duration": 394,
    "start_time": "2025-03-06T17:51:22.683Z"
   },
   {
    "duration": 3,
    "start_time": "2025-03-06T17:51:47.410Z"
   },
   {
    "duration": 2,
    "start_time": "2025-03-06T17:51:49.719Z"
   },
   {
    "duration": 19,
    "start_time": "2025-03-06T17:51:53.339Z"
   },
   {
    "duration": 53,
    "start_time": "2025-03-06T17:51:58.582Z"
   },
   {
    "duration": 3,
    "start_time": "2025-03-06T17:52:12.198Z"
   },
   {
    "duration": 3,
    "start_time": "2025-03-06T17:52:14.291Z"
   },
   {
    "duration": 20,
    "start_time": "2025-03-06T17:52:19.107Z"
   },
   {
    "duration": 405,
    "start_time": "2025-03-06T17:52:22.174Z"
   },
   {
    "duration": 8,
    "start_time": "2025-03-06T17:52:27.190Z"
   },
   {
    "duration": 368,
    "start_time": "2025-03-06T17:52:29.959Z"
   },
   {
    "duration": 378,
    "start_time": "2025-03-06T17:56:03.696Z"
   },
   {
    "duration": 7,
    "start_time": "2025-03-06T17:58:05.911Z"
   },
   {
    "duration": 3,
    "start_time": "2025-03-06T18:03:36.363Z"
   },
   {
    "duration": 1055,
    "start_time": "2025-03-06T18:03:36.368Z"
   },
   {
    "duration": 8,
    "start_time": "2025-03-06T18:03:37.425Z"
   },
   {
    "duration": 3,
    "start_time": "2025-03-06T18:03:37.435Z"
   },
   {
    "duration": 10,
    "start_time": "2025-03-06T18:03:37.441Z"
   },
   {
    "duration": 9,
    "start_time": "2025-03-06T18:03:37.453Z"
   },
   {
    "duration": 4,
    "start_time": "2025-03-06T18:03:37.464Z"
   },
   {
    "duration": 37,
    "start_time": "2025-03-06T18:03:37.469Z"
   },
   {
    "duration": 17,
    "start_time": "2025-03-06T18:03:37.508Z"
   },
   {
    "duration": 6,
    "start_time": "2025-03-06T18:03:37.526Z"
   },
   {
    "duration": 6,
    "start_time": "2025-03-06T18:03:37.535Z"
   },
   {
    "duration": 2648,
    "start_time": "2025-03-06T18:03:37.542Z"
   },
   {
    "duration": 3,
    "start_time": "2025-03-06T18:03:40.193Z"
   },
   {
    "duration": 6,
    "start_time": "2025-03-06T18:03:40.198Z"
   },
   {
    "duration": 9,
    "start_time": "2025-03-06T18:03:40.206Z"
   },
   {
    "duration": 9,
    "start_time": "2025-03-06T18:03:40.217Z"
   },
   {
    "duration": 14,
    "start_time": "2025-03-06T18:03:40.228Z"
   },
   {
    "duration": 21,
    "start_time": "2025-03-06T18:03:40.243Z"
   },
   {
    "duration": 41,
    "start_time": "2025-03-06T18:03:40.266Z"
   },
   {
    "duration": 23,
    "start_time": "2025-03-06T18:03:40.310Z"
   },
   {
    "duration": 8,
    "start_time": "2025-03-06T18:03:40.335Z"
   },
   {
    "duration": 5,
    "start_time": "2025-03-06T18:03:40.344Z"
   },
   {
    "duration": 3,
    "start_time": "2025-03-06T18:03:40.350Z"
   },
   {
    "duration": 3,
    "start_time": "2025-03-06T18:03:40.355Z"
   },
   {
    "duration": 48,
    "start_time": "2025-03-06T18:03:40.360Z"
   },
   {
    "duration": 300,
    "start_time": "2025-03-06T18:03:40.410Z"
   },
   {
    "duration": 9,
    "start_time": "2025-03-06T18:03:40.712Z"
   },
   {
    "duration": 386,
    "start_time": "2025-03-06T18:03:40.722Z"
   },
   {
    "duration": 4,
    "start_time": "2025-03-06T18:03:41.112Z"
   },
   {
    "duration": 3,
    "start_time": "2025-03-06T18:03:41.119Z"
   },
   {
    "duration": 7,
    "start_time": "2025-03-06T18:03:41.124Z"
   },
   {
    "duration": 7,
    "start_time": "2025-03-06T18:03:41.132Z"
   },
   {
    "duration": 63,
    "start_time": "2025-03-06T18:03:41.141Z"
   },
   {
    "duration": 3,
    "start_time": "2025-03-06T18:03:41.212Z"
   },
   {
    "duration": 8,
    "start_time": "2025-03-06T18:03:41.217Z"
   },
   {
    "duration": 3,
    "start_time": "2025-03-06T18:03:41.226Z"
   },
   {
    "duration": 4,
    "start_time": "2025-03-06T18:03:41.306Z"
   },
   {
    "duration": 8,
    "start_time": "2025-03-06T18:03:41.312Z"
   },
   {
    "duration": 8,
    "start_time": "2025-03-06T18:03:41.322Z"
   },
   {
    "duration": 77,
    "start_time": "2025-03-06T18:03:41.332Z"
   },
   {
    "duration": 11,
    "start_time": "2025-03-06T18:03:41.411Z"
   },
   {
    "duration": 4,
    "start_time": "2025-03-06T18:03:41.424Z"
   },
   {
    "duration": 79,
    "start_time": "2025-03-06T18:03:41.430Z"
   },
   {
    "duration": 3,
    "start_time": "2025-03-06T18:32:18.117Z"
   },
   {
    "duration": 3,
    "start_time": "2025-03-06T18:32:19.966Z"
   },
   {
    "duration": 9,
    "start_time": "2025-03-06T18:33:12.263Z"
   },
   {
    "duration": 7,
    "start_time": "2025-03-06T18:35:29.596Z"
   },
   {
    "duration": 3,
    "start_time": "2025-03-06T18:46:09.209Z"
   },
   {
    "duration": 1063,
    "start_time": "2025-03-06T18:46:09.215Z"
   },
   {
    "duration": 9,
    "start_time": "2025-03-06T18:46:10.280Z"
   },
   {
    "duration": 3,
    "start_time": "2025-03-06T18:46:10.291Z"
   },
   {
    "duration": 18,
    "start_time": "2025-03-06T18:46:10.296Z"
   },
   {
    "duration": 9,
    "start_time": "2025-03-06T18:46:10.316Z"
   },
   {
    "duration": 3,
    "start_time": "2025-03-06T18:46:10.326Z"
   },
   {
    "duration": 7,
    "start_time": "2025-03-06T18:46:10.331Z"
   },
   {
    "duration": 17,
    "start_time": "2025-03-06T18:46:10.340Z"
   },
   {
    "duration": 5,
    "start_time": "2025-03-06T18:46:10.359Z"
   },
   {
    "duration": 42,
    "start_time": "2025-03-06T18:46:10.367Z"
   },
   {
    "duration": 2667,
    "start_time": "2025-03-06T18:46:10.411Z"
   },
   {
    "duration": 3,
    "start_time": "2025-03-06T18:46:13.080Z"
   },
   {
    "duration": 5,
    "start_time": "2025-03-06T18:46:13.085Z"
   },
   {
    "duration": 9,
    "start_time": "2025-03-06T18:46:13.091Z"
   },
   {
    "duration": 11,
    "start_time": "2025-03-06T18:46:13.101Z"
   },
   {
    "duration": 14,
    "start_time": "2025-03-06T18:46:13.114Z"
   },
   {
    "duration": 22,
    "start_time": "2025-03-06T18:46:13.129Z"
   },
   {
    "duration": 14,
    "start_time": "2025-03-06T18:46:13.153Z"
   },
   {
    "duration": 55,
    "start_time": "2025-03-06T18:46:13.169Z"
   },
   {
    "duration": 12,
    "start_time": "2025-03-06T18:46:13.226Z"
   },
   {
    "duration": 4,
    "start_time": "2025-03-06T18:46:13.240Z"
   },
   {
    "duration": 4,
    "start_time": "2025-03-06T18:46:13.246Z"
   },
   {
    "duration": 3,
    "start_time": "2025-03-06T18:46:13.252Z"
   },
   {
    "duration": 19,
    "start_time": "2025-03-06T18:46:13.257Z"
   },
   {
    "duration": 348,
    "start_time": "2025-03-06T18:46:13.278Z"
   },
   {
    "duration": 8,
    "start_time": "2025-03-06T18:46:13.628Z"
   },
   {
    "duration": 394,
    "start_time": "2025-03-06T18:46:13.638Z"
   },
   {
    "duration": 4,
    "start_time": "2025-03-06T18:46:14.036Z"
   },
   {
    "duration": 3,
    "start_time": "2025-03-06T18:46:14.043Z"
   },
   {
    "duration": 9,
    "start_time": "2025-03-06T18:46:14.048Z"
   },
   {
    "duration": 60,
    "start_time": "2025-03-06T18:46:14.059Z"
   },
   {
    "duration": 5,
    "start_time": "2025-03-06T18:46:14.123Z"
   },
   {
    "duration": 77,
    "start_time": "2025-03-06T18:46:14.131Z"
   },
   {
    "duration": 4,
    "start_time": "2025-03-06T18:46:14.212Z"
   },
   {
    "duration": 3,
    "start_time": "2025-03-06T18:46:14.219Z"
   },
   {
    "duration": 4,
    "start_time": "2025-03-06T18:46:14.224Z"
   },
   {
    "duration": 78,
    "start_time": "2025-03-06T18:46:14.230Z"
   },
   {
    "duration": 11,
    "start_time": "2025-03-06T18:46:14.310Z"
   },
   {
    "duration": 5,
    "start_time": "2025-03-06T18:46:14.322Z"
   },
   {
    "duration": 14,
    "start_time": "2025-03-06T18:46:14.406Z"
   },
   {
    "duration": 3,
    "start_time": "2025-03-06T18:46:14.423Z"
   },
   {
    "duration": 3,
    "start_time": "2025-03-06T18:46:14.428Z"
   },
   {
    "duration": 77,
    "start_time": "2025-03-06T18:46:14.433Z"
   },
   {
    "duration": 2,
    "start_time": "2025-03-07T18:13:29.617Z"
   },
   {
    "duration": 2855,
    "start_time": "2025-03-07T18:13:29.622Z"
   },
   {
    "duration": 16,
    "start_time": "2025-03-07T18:13:32.478Z"
   },
   {
    "duration": 3,
    "start_time": "2025-03-07T18:13:32.496Z"
   },
   {
    "duration": 12,
    "start_time": "2025-03-07T18:13:32.500Z"
   },
   {
    "duration": 8,
    "start_time": "2025-03-07T18:13:32.514Z"
   },
   {
    "duration": 4,
    "start_time": "2025-03-07T18:13:32.524Z"
   },
   {
    "duration": 9,
    "start_time": "2025-03-07T18:13:32.530Z"
   },
   {
    "duration": 45,
    "start_time": "2025-03-07T18:13:32.543Z"
   },
   {
    "duration": 5,
    "start_time": "2025-03-07T18:13:32.589Z"
   },
   {
    "duration": 6,
    "start_time": "2025-03-07T18:13:32.596Z"
   },
   {
    "duration": 2876,
    "start_time": "2025-03-07T18:13:32.603Z"
   },
   {
    "duration": 3,
    "start_time": "2025-03-07T18:13:35.481Z"
   },
   {
    "duration": 6,
    "start_time": "2025-03-07T18:13:35.487Z"
   },
   {
    "duration": 10,
    "start_time": "2025-03-07T18:13:35.495Z"
   },
   {
    "duration": 11,
    "start_time": "2025-03-07T18:13:35.507Z"
   },
   {
    "duration": 119,
    "start_time": "2025-03-07T18:13:35.519Z"
   },
   {
    "duration": 21,
    "start_time": "2025-03-07T18:13:35.639Z"
   },
   {
    "duration": 24,
    "start_time": "2025-03-07T18:13:35.662Z"
   },
   {
    "duration": 21,
    "start_time": "2025-03-07T18:13:35.688Z"
   },
   {
    "duration": 9,
    "start_time": "2025-03-07T18:13:35.711Z"
   },
   {
    "duration": 4,
    "start_time": "2025-03-07T18:13:35.721Z"
   },
   {
    "duration": 3,
    "start_time": "2025-03-07T18:13:35.727Z"
   },
   {
    "duration": 3,
    "start_time": "2025-03-07T18:13:35.735Z"
   },
   {
    "duration": 47,
    "start_time": "2025-03-07T18:13:35.740Z"
   },
   {
    "duration": 313,
    "start_time": "2025-03-07T18:13:35.789Z"
   },
   {
    "duration": 8,
    "start_time": "2025-03-07T18:13:36.104Z"
   },
   {
    "duration": 386,
    "start_time": "2025-03-07T18:13:36.113Z"
   },
   {
    "duration": 4,
    "start_time": "2025-03-07T18:13:36.501Z"
   },
   {
    "duration": 3,
    "start_time": "2025-03-07T18:13:36.507Z"
   },
   {
    "duration": 13,
    "start_time": "2025-03-07T18:13:36.512Z"
   },
   {
    "duration": 65,
    "start_time": "2025-03-07T18:13:36.527Z"
   },
   {
    "duration": 7,
    "start_time": "2025-03-07T18:13:36.594Z"
   },
   {
    "duration": 5,
    "start_time": "2025-03-07T18:13:36.604Z"
   },
   {
    "duration": 77,
    "start_time": "2025-03-07T18:13:36.610Z"
   },
   {
    "duration": 3,
    "start_time": "2025-03-07T18:13:36.689Z"
   },
   {
    "duration": 3,
    "start_time": "2025-03-07T18:13:36.694Z"
   },
   {
    "duration": 10,
    "start_time": "2025-03-07T18:13:36.699Z"
   },
   {
    "duration": 76,
    "start_time": "2025-03-07T18:13:36.711Z"
   },
   {
    "duration": 4,
    "start_time": "2025-03-07T18:13:36.789Z"
   },
   {
    "duration": 10,
    "start_time": "2025-03-07T18:13:36.795Z"
   },
   {
    "duration": 3,
    "start_time": "2025-03-07T18:13:36.807Z"
   },
   {
    "duration": 5,
    "start_time": "2025-03-07T18:13:36.889Z"
   },
   {
    "duration": 8,
    "start_time": "2025-03-07T18:13:36.895Z"
   }
  ],
  "kernelspec": {
   "display_name": "Python 3 (ipykernel)",
   "language": "python",
   "name": "python3"
  },
  "language_info": {
   "codemirror_mode": {
    "name": "ipython",
    "version": 3
   },
   "file_extension": ".py",
   "mimetype": "text/x-python",
   "name": "python",
   "nbconvert_exporter": "python",
   "pygments_lexer": "ipython3",
   "version": "3.9.19"
  },
  "toc": {
   "base_numbering": 1,
   "nav_menu": {},
   "number_sections": true,
   "sideBar": true,
   "skip_h1_title": true,
   "title_cell": "Table of Contents",
   "title_sidebar": "Contents",
   "toc_cell": false,
   "toc_position": {},
   "toc_section_display": true,
   "toc_window_display": false
  }
 },
 "nbformat": 4,
 "nbformat_minor": 4
}
